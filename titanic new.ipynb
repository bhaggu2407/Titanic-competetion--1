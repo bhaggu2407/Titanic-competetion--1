{
 "cells": [
  {
   "cell_type": "markdown",
   "id": "95cb3fe8",
   "metadata": {
    "papermill": {
     "duration": 0.016113,
     "end_time": "2022-07-22T19:21:19.697252",
     "exception": false,
     "start_time": "2022-07-22T19:21:19.681139",
     "status": "completed"
    },
    "tags": []
   },
   "source": [
    "# Brief\n",
    "By following the steps Data analytics, cleaning the data and thereby building the model to predict, there has been progress in the Kaggle Titanic competetion.\n",
    "Out of all the submission tries the best testing efficiency output i got is from the below model."
   ]
  },
  {
   "cell_type": "code",
   "execution_count": 1,
   "id": "98425e57",
   "metadata": {
    "execution": {
     "iopub.execute_input": "2022-07-22T19:21:19.757178Z",
     "iopub.status.busy": "2022-07-22T19:21:19.756171Z",
     "iopub.status.idle": "2022-07-22T19:21:21.085515Z",
     "shell.execute_reply": "2022-07-22T19:21:21.084391Z"
    },
    "papermill": {
     "duration": 1.348698,
     "end_time": "2022-07-22T19:21:21.088954",
     "exception": false,
     "start_time": "2022-07-22T19:21:19.740256",
     "status": "completed"
    },
    "tags": []
   },
   "outputs": [
    {
     "data": {
      "text/html": [
       "<div>\n",
       "<style scoped>\n",
       "    .dataframe tbody tr th:only-of-type {\n",
       "        vertical-align: middle;\n",
       "    }\n",
       "\n",
       "    .dataframe tbody tr th {\n",
       "        vertical-align: top;\n",
       "    }\n",
       "\n",
       "    .dataframe thead th {\n",
       "        text-align: right;\n",
       "    }\n",
       "</style>\n",
       "<table border=\"1\" class=\"dataframe\">\n",
       "  <thead>\n",
       "    <tr style=\"text-align: right;\">\n",
       "      <th></th>\n",
       "      <th>PassengerId</th>\n",
       "      <th>Pclass</th>\n",
       "      <th>Name</th>\n",
       "      <th>Sex</th>\n",
       "      <th>Age</th>\n",
       "      <th>SibSp</th>\n",
       "      <th>Parch</th>\n",
       "      <th>Ticket</th>\n",
       "      <th>Fare</th>\n",
       "      <th>Cabin</th>\n",
       "      <th>Embarked</th>\n",
       "    </tr>\n",
       "  </thead>\n",
       "  <tbody>\n",
       "    <tr>\n",
       "      <th>0</th>\n",
       "      <td>1</td>\n",
       "      <td>3</td>\n",
       "      <td>Braund, Mr. Owen Harris</td>\n",
       "      <td>male</td>\n",
       "      <td>22.0</td>\n",
       "      <td>1</td>\n",
       "      <td>0</td>\n",
       "      <td>A/5 21171</td>\n",
       "      <td>7.2500</td>\n",
       "      <td>NaN</td>\n",
       "      <td>S</td>\n",
       "    </tr>\n",
       "    <tr>\n",
       "      <th>1</th>\n",
       "      <td>2</td>\n",
       "      <td>1</td>\n",
       "      <td>Cumings, Mrs. John Bradley (Florence Briggs Th...</td>\n",
       "      <td>female</td>\n",
       "      <td>38.0</td>\n",
       "      <td>1</td>\n",
       "      <td>0</td>\n",
       "      <td>PC 17599</td>\n",
       "      <td>71.2833</td>\n",
       "      <td>C85</td>\n",
       "      <td>C</td>\n",
       "    </tr>\n",
       "    <tr>\n",
       "      <th>2</th>\n",
       "      <td>3</td>\n",
       "      <td>3</td>\n",
       "      <td>Heikkinen, Miss. Laina</td>\n",
       "      <td>female</td>\n",
       "      <td>26.0</td>\n",
       "      <td>0</td>\n",
       "      <td>0</td>\n",
       "      <td>STON/O2. 3101282</td>\n",
       "      <td>7.9250</td>\n",
       "      <td>NaN</td>\n",
       "      <td>S</td>\n",
       "    </tr>\n",
       "    <tr>\n",
       "      <th>3</th>\n",
       "      <td>4</td>\n",
       "      <td>1</td>\n",
       "      <td>Futrelle, Mrs. Jacques Heath (Lily May Peel)</td>\n",
       "      <td>female</td>\n",
       "      <td>35.0</td>\n",
       "      <td>1</td>\n",
       "      <td>0</td>\n",
       "      <td>113803</td>\n",
       "      <td>53.1000</td>\n",
       "      <td>C123</td>\n",
       "      <td>S</td>\n",
       "    </tr>\n",
       "    <tr>\n",
       "      <th>4</th>\n",
       "      <td>5</td>\n",
       "      <td>3</td>\n",
       "      <td>Allen, Mr. William Henry</td>\n",
       "      <td>male</td>\n",
       "      <td>35.0</td>\n",
       "      <td>0</td>\n",
       "      <td>0</td>\n",
       "      <td>373450</td>\n",
       "      <td>8.0500</td>\n",
       "      <td>NaN</td>\n",
       "      <td>S</td>\n",
       "    </tr>\n",
       "    <tr>\n",
       "      <th>...</th>\n",
       "      <td>...</td>\n",
       "      <td>...</td>\n",
       "      <td>...</td>\n",
       "      <td>...</td>\n",
       "      <td>...</td>\n",
       "      <td>...</td>\n",
       "      <td>...</td>\n",
       "      <td>...</td>\n",
       "      <td>...</td>\n",
       "      <td>...</td>\n",
       "      <td>...</td>\n",
       "    </tr>\n",
       "    <tr>\n",
       "      <th>886</th>\n",
       "      <td>887</td>\n",
       "      <td>2</td>\n",
       "      <td>Montvila, Rev. Juozas</td>\n",
       "      <td>male</td>\n",
       "      <td>27.0</td>\n",
       "      <td>0</td>\n",
       "      <td>0</td>\n",
       "      <td>211536</td>\n",
       "      <td>13.0000</td>\n",
       "      <td>NaN</td>\n",
       "      <td>S</td>\n",
       "    </tr>\n",
       "    <tr>\n",
       "      <th>887</th>\n",
       "      <td>888</td>\n",
       "      <td>1</td>\n",
       "      <td>Graham, Miss. Margaret Edith</td>\n",
       "      <td>female</td>\n",
       "      <td>19.0</td>\n",
       "      <td>0</td>\n",
       "      <td>0</td>\n",
       "      <td>112053</td>\n",
       "      <td>30.0000</td>\n",
       "      <td>B42</td>\n",
       "      <td>S</td>\n",
       "    </tr>\n",
       "    <tr>\n",
       "      <th>888</th>\n",
       "      <td>889</td>\n",
       "      <td>3</td>\n",
       "      <td>Johnston, Miss. Catherine Helen \"Carrie\"</td>\n",
       "      <td>female</td>\n",
       "      <td>NaN</td>\n",
       "      <td>1</td>\n",
       "      <td>2</td>\n",
       "      <td>W./C. 6607</td>\n",
       "      <td>23.4500</td>\n",
       "      <td>NaN</td>\n",
       "      <td>S</td>\n",
       "    </tr>\n",
       "    <tr>\n",
       "      <th>889</th>\n",
       "      <td>890</td>\n",
       "      <td>1</td>\n",
       "      <td>Behr, Mr. Karl Howell</td>\n",
       "      <td>male</td>\n",
       "      <td>26.0</td>\n",
       "      <td>0</td>\n",
       "      <td>0</td>\n",
       "      <td>111369</td>\n",
       "      <td>30.0000</td>\n",
       "      <td>C148</td>\n",
       "      <td>C</td>\n",
       "    </tr>\n",
       "    <tr>\n",
       "      <th>890</th>\n",
       "      <td>891</td>\n",
       "      <td>3</td>\n",
       "      <td>Dooley, Mr. Patrick</td>\n",
       "      <td>male</td>\n",
       "      <td>32.0</td>\n",
       "      <td>0</td>\n",
       "      <td>0</td>\n",
       "      <td>370376</td>\n",
       "      <td>7.7500</td>\n",
       "      <td>NaN</td>\n",
       "      <td>Q</td>\n",
       "    </tr>\n",
       "  </tbody>\n",
       "</table>\n",
       "<p>891 rows × 11 columns</p>\n",
       "</div>"
      ],
      "text/plain": [
       "     PassengerId  Pclass                                               Name  \\\n",
       "0              1       3                            Braund, Mr. Owen Harris   \n",
       "1              2       1  Cumings, Mrs. John Bradley (Florence Briggs Th...   \n",
       "2              3       3                             Heikkinen, Miss. Laina   \n",
       "3              4       1       Futrelle, Mrs. Jacques Heath (Lily May Peel)   \n",
       "4              5       3                           Allen, Mr. William Henry   \n",
       "..           ...     ...                                                ...   \n",
       "886          887       2                              Montvila, Rev. Juozas   \n",
       "887          888       1                       Graham, Miss. Margaret Edith   \n",
       "888          889       3           Johnston, Miss. Catherine Helen \"Carrie\"   \n",
       "889          890       1                              Behr, Mr. Karl Howell   \n",
       "890          891       3                                Dooley, Mr. Patrick   \n",
       "\n",
       "        Sex   Age  SibSp  Parch            Ticket     Fare Cabin Embarked  \n",
       "0      male  22.0      1      0         A/5 21171   7.2500   NaN        S  \n",
       "1    female  38.0      1      0          PC 17599  71.2833   C85        C  \n",
       "2    female  26.0      0      0  STON/O2. 3101282   7.9250   NaN        S  \n",
       "3    female  35.0      1      0            113803  53.1000  C123        S  \n",
       "4      male  35.0      0      0            373450   8.0500   NaN        S  \n",
       "..      ...   ...    ...    ...               ...      ...   ...      ...  \n",
       "886    male  27.0      0      0            211536  13.0000   NaN        S  \n",
       "887  female  19.0      0      0            112053  30.0000   B42        S  \n",
       "888  female   NaN      1      2        W./C. 6607  23.4500   NaN        S  \n",
       "889    male  26.0      0      0            111369  30.0000  C148        C  \n",
       "890    male  32.0      0      0            370376   7.7500   NaN        Q  \n",
       "\n",
       "[891 rows x 11 columns]"
      ]
     },
     "execution_count": 1,
     "metadata": {},
     "output_type": "execute_result"
    }
   ],
   "source": [
    "import pandas as pd\n",
    "import seaborn as sns\n",
    "import numpy as np\n",
    "\n",
    "train_path = \"Test data/train.csv\"\n",
    "test_path = \"Test data/test.csv\"\n",
    "\n",
    "b = pd.read_csv(train_path)\n",
    "b_test = pd.read_csv(test_path)\n",
    "\n",
    "\n",
    "b.drop(\"Survived\", axis=1)"
   ]
  },
  {
   "cell_type": "code",
   "execution_count": 2,
   "id": "37a276de",
   "metadata": {
    "execution": {
     "iopub.execute_input": "2022-07-22T19:21:21.121066Z",
     "iopub.status.busy": "2022-07-22T19:21:21.120263Z",
     "iopub.status.idle": "2022-07-22T19:21:21.144548Z",
     "shell.execute_reply": "2022-07-22T19:21:21.143077Z"
    },
    "papermill": {
     "duration": 0.043584,
     "end_time": "2022-07-22T19:21:21.147155",
     "exception": false,
     "start_time": "2022-07-22T19:21:21.103571",
     "status": "completed"
    },
    "tags": []
   },
   "outputs": [
    {
     "name": "stdout",
     "output_type": "stream",
     "text": [
      "<class 'pandas.core.frame.DataFrame'>\n",
      "RangeIndex: 891 entries, 0 to 890\n",
      "Data columns (total 12 columns):\n",
      " #   Column       Non-Null Count  Dtype  \n",
      "---  ------       --------------  -----  \n",
      " 0   PassengerId  891 non-null    int64  \n",
      " 1   Survived     891 non-null    int64  \n",
      " 2   Pclass       891 non-null    int64  \n",
      " 3   Name         891 non-null    object \n",
      " 4   Sex          891 non-null    object \n",
      " 5   Age          714 non-null    float64\n",
      " 6   SibSp        891 non-null    int64  \n",
      " 7   Parch        891 non-null    int64  \n",
      " 8   Ticket       891 non-null    object \n",
      " 9   Fare         891 non-null    float64\n",
      " 10  Cabin        204 non-null    object \n",
      " 11  Embarked     889 non-null    object \n",
      "dtypes: float64(2), int64(5), object(5)\n",
      "memory usage: 83.7+ KB\n"
     ]
    }
   ],
   "source": [
    "b.info()"
   ]
  },
  {
   "cell_type": "markdown",
   "id": "0baeb2b2",
   "metadata": {
    "papermill": {
     "duration": 0.014343,
     "end_time": "2022-07-22T19:21:21.176000",
     "exception": false,
     "start_time": "2022-07-22T19:21:21.161657",
     "status": "completed"
    },
    "tags": []
   },
   "source": [
    "# Exploratory Data Analysis"
   ]
  },
  {
   "cell_type": "code",
   "execution_count": 3,
   "id": "dda6882e",
   "metadata": {
    "execution": {
     "iopub.execute_input": "2022-07-22T19:21:21.206808Z",
     "iopub.status.busy": "2022-07-22T19:21:21.206395Z",
     "iopub.status.idle": "2022-07-22T19:21:21.216700Z",
     "shell.execute_reply": "2022-07-22T19:21:21.215453Z"
    },
    "papermill": {
     "duration": 0.028528,
     "end_time": "2022-07-22T19:21:21.218981",
     "exception": false,
     "start_time": "2022-07-22T19:21:21.190453",
     "status": "completed"
    },
    "tags": []
   },
   "outputs": [
    {
     "data": {
      "text/plain": [
       "S    644\n",
       "C    168\n",
       "Q     77\n",
       "Name: Embarked, dtype: int64"
      ]
     },
     "execution_count": 3,
     "metadata": {},
     "output_type": "execute_result"
    }
   ],
   "source": [
    "b['Embarked'].value_counts()"
   ]
  },
  {
   "cell_type": "code",
   "execution_count": 4,
   "id": "a949574e",
   "metadata": {
    "execution": {
     "iopub.execute_input": "2022-07-22T19:21:21.250307Z",
     "iopub.status.busy": "2022-07-22T19:21:21.249193Z",
     "iopub.status.idle": "2022-07-22T19:21:21.258283Z",
     "shell.execute_reply": "2022-07-22T19:21:21.257185Z"
    },
    "papermill": {
     "duration": 0.027187,
     "end_time": "2022-07-22T19:21:21.260637",
     "exception": false,
     "start_time": "2022-07-22T19:21:21.233450",
     "status": "completed"
    },
    "tags": []
   },
   "outputs": [],
   "source": [
    "embarked_grouped = b.groupby(\"Embarked\").aggregate({\"Survived\": \"sum\"})\n",
    "embarked_grouped.reset_index(inplace=True)"
   ]
  },
  {
   "cell_type": "code",
   "execution_count": 5,
   "id": "f1a07a85",
   "metadata": {
    "execution": {
     "iopub.execute_input": "2022-07-22T19:21:21.292431Z",
     "iopub.status.busy": "2022-07-22T19:21:21.291811Z",
     "iopub.status.idle": "2022-07-22T19:21:21.302213Z",
     "shell.execute_reply": "2022-07-22T19:21:21.300968Z"
    },
    "papermill": {
     "duration": 0.028679,
     "end_time": "2022-07-22T19:21:21.304527",
     "exception": false,
     "start_time": "2022-07-22T19:21:21.275848",
     "status": "completed"
    },
    "tags": []
   },
   "outputs": [
    {
     "data": {
      "text/html": [
       "<div>\n",
       "<style scoped>\n",
       "    .dataframe tbody tr th:only-of-type {\n",
       "        vertical-align: middle;\n",
       "    }\n",
       "\n",
       "    .dataframe tbody tr th {\n",
       "        vertical-align: top;\n",
       "    }\n",
       "\n",
       "    .dataframe thead th {\n",
       "        text-align: right;\n",
       "    }\n",
       "</style>\n",
       "<table border=\"1\" class=\"dataframe\">\n",
       "  <thead>\n",
       "    <tr style=\"text-align: right;\">\n",
       "      <th></th>\n",
       "      <th>Embarked</th>\n",
       "      <th>Survived</th>\n",
       "    </tr>\n",
       "  </thead>\n",
       "  <tbody>\n",
       "    <tr>\n",
       "      <th>0</th>\n",
       "      <td>C</td>\n",
       "      <td>93</td>\n",
       "    </tr>\n",
       "    <tr>\n",
       "      <th>1</th>\n",
       "      <td>Q</td>\n",
       "      <td>30</td>\n",
       "    </tr>\n",
       "    <tr>\n",
       "      <th>2</th>\n",
       "      <td>S</td>\n",
       "      <td>217</td>\n",
       "    </tr>\n",
       "  </tbody>\n",
       "</table>\n",
       "</div>"
      ],
      "text/plain": [
       "  Embarked  Survived\n",
       "0        C        93\n",
       "1        Q        30\n",
       "2        S       217"
      ]
     },
     "execution_count": 5,
     "metadata": {},
     "output_type": "execute_result"
    }
   ],
   "source": [
    "embarked_grouped.head()"
   ]
  },
  {
   "cell_type": "code",
   "execution_count": 6,
   "id": "1b0cd142",
   "metadata": {
    "execution": {
     "iopub.execute_input": "2022-07-22T19:21:21.335870Z",
     "iopub.status.busy": "2022-07-22T19:21:21.335215Z",
     "iopub.status.idle": "2022-07-22T19:21:21.354820Z",
     "shell.execute_reply": "2022-07-22T19:21:21.353711Z"
    },
    "papermill": {
     "duration": 0.037893,
     "end_time": "2022-07-22T19:21:21.357071",
     "exception": false,
     "start_time": "2022-07-22T19:21:21.319178",
     "status": "completed"
    },
    "tags": []
   },
   "outputs": [
    {
     "data": {
      "text/html": [
       "<div>\n",
       "<style scoped>\n",
       "    .dataframe tbody tr th:only-of-type {\n",
       "        vertical-align: middle;\n",
       "    }\n",
       "\n",
       "    .dataframe tbody tr th {\n",
       "        vertical-align: top;\n",
       "    }\n",
       "\n",
       "    .dataframe thead th {\n",
       "        text-align: right;\n",
       "    }\n",
       "</style>\n",
       "<table border=\"1\" class=\"dataframe\">\n",
       "  <thead>\n",
       "    <tr style=\"text-align: right;\">\n",
       "      <th></th>\n",
       "      <th>PassengerId</th>\n",
       "      <th>Survived</th>\n",
       "      <th>Pclass</th>\n",
       "      <th>Age</th>\n",
       "      <th>SibSp</th>\n",
       "      <th>Parch</th>\n",
       "      <th>Fare</th>\n",
       "    </tr>\n",
       "  </thead>\n",
       "  <tbody>\n",
       "    <tr>\n",
       "      <th>PassengerId</th>\n",
       "      <td>1.000000</td>\n",
       "      <td>-0.005007</td>\n",
       "      <td>-0.035144</td>\n",
       "      <td>0.036847</td>\n",
       "      <td>-0.057527</td>\n",
       "      <td>-0.001652</td>\n",
       "      <td>0.012658</td>\n",
       "    </tr>\n",
       "    <tr>\n",
       "      <th>Survived</th>\n",
       "      <td>-0.005007</td>\n",
       "      <td>1.000000</td>\n",
       "      <td>-0.338481</td>\n",
       "      <td>-0.077221</td>\n",
       "      <td>-0.035322</td>\n",
       "      <td>0.081629</td>\n",
       "      <td>0.257307</td>\n",
       "    </tr>\n",
       "    <tr>\n",
       "      <th>Pclass</th>\n",
       "      <td>-0.035144</td>\n",
       "      <td>-0.338481</td>\n",
       "      <td>1.000000</td>\n",
       "      <td>-0.369226</td>\n",
       "      <td>0.083081</td>\n",
       "      <td>0.018443</td>\n",
       "      <td>-0.549500</td>\n",
       "    </tr>\n",
       "    <tr>\n",
       "      <th>Age</th>\n",
       "      <td>0.036847</td>\n",
       "      <td>-0.077221</td>\n",
       "      <td>-0.369226</td>\n",
       "      <td>1.000000</td>\n",
       "      <td>-0.308247</td>\n",
       "      <td>-0.189119</td>\n",
       "      <td>0.096067</td>\n",
       "    </tr>\n",
       "    <tr>\n",
       "      <th>SibSp</th>\n",
       "      <td>-0.057527</td>\n",
       "      <td>-0.035322</td>\n",
       "      <td>0.083081</td>\n",
       "      <td>-0.308247</td>\n",
       "      <td>1.000000</td>\n",
       "      <td>0.414838</td>\n",
       "      <td>0.159651</td>\n",
       "    </tr>\n",
       "    <tr>\n",
       "      <th>Parch</th>\n",
       "      <td>-0.001652</td>\n",
       "      <td>0.081629</td>\n",
       "      <td>0.018443</td>\n",
       "      <td>-0.189119</td>\n",
       "      <td>0.414838</td>\n",
       "      <td>1.000000</td>\n",
       "      <td>0.216225</td>\n",
       "    </tr>\n",
       "    <tr>\n",
       "      <th>Fare</th>\n",
       "      <td>0.012658</td>\n",
       "      <td>0.257307</td>\n",
       "      <td>-0.549500</td>\n",
       "      <td>0.096067</td>\n",
       "      <td>0.159651</td>\n",
       "      <td>0.216225</td>\n",
       "      <td>1.000000</td>\n",
       "    </tr>\n",
       "  </tbody>\n",
       "</table>\n",
       "</div>"
      ],
      "text/plain": [
       "             PassengerId  Survived    Pclass       Age     SibSp     Parch  \\\n",
       "PassengerId     1.000000 -0.005007 -0.035144  0.036847 -0.057527 -0.001652   \n",
       "Survived       -0.005007  1.000000 -0.338481 -0.077221 -0.035322  0.081629   \n",
       "Pclass         -0.035144 -0.338481  1.000000 -0.369226  0.083081  0.018443   \n",
       "Age             0.036847 -0.077221 -0.369226  1.000000 -0.308247 -0.189119   \n",
       "SibSp          -0.057527 -0.035322  0.083081 -0.308247  1.000000  0.414838   \n",
       "Parch          -0.001652  0.081629  0.018443 -0.189119  0.414838  1.000000   \n",
       "Fare            0.012658  0.257307 -0.549500  0.096067  0.159651  0.216225   \n",
       "\n",
       "                 Fare  \n",
       "PassengerId  0.012658  \n",
       "Survived     0.257307  \n",
       "Pclass      -0.549500  \n",
       "Age          0.096067  \n",
       "SibSp        0.159651  \n",
       "Parch        0.216225  \n",
       "Fare         1.000000  "
      ]
     },
     "execution_count": 6,
     "metadata": {},
     "output_type": "execute_result"
    }
   ],
   "source": [
    "b.corr()"
   ]
  },
  {
   "cell_type": "code",
   "execution_count": 7,
   "id": "88063928",
   "metadata": {
    "execution": {
     "iopub.execute_input": "2022-07-22T19:21:21.389989Z",
     "iopub.status.busy": "2022-07-22T19:21:21.389259Z",
     "iopub.status.idle": "2022-07-22T19:21:21.395846Z",
     "shell.execute_reply": "2022-07-22T19:21:21.394999Z"
    },
    "papermill": {
     "duration": 0.025385,
     "end_time": "2022-07-22T19:21:21.398049",
     "exception": false,
     "start_time": "2022-07-22T19:21:21.372664",
     "status": "completed"
    },
    "tags": []
   },
   "outputs": [],
   "source": [
    "b['cabin_mapped'] = b['Cabin'].map(lambda x: str(x)[0])"
   ]
  },
  {
   "cell_type": "code",
   "execution_count": 8,
   "id": "0c960e83",
   "metadata": {
    "execution": {
     "iopub.execute_input": "2022-07-22T19:21:21.429973Z",
     "iopub.status.busy": "2022-07-22T19:21:21.429543Z",
     "iopub.status.idle": "2022-07-22T19:21:21.511727Z",
     "shell.execute_reply": "2022-07-22T19:21:21.510026Z"
    },
    "papermill": {
     "duration": 0.101263,
     "end_time": "2022-07-22T19:21:21.514392",
     "exception": false,
     "start_time": "2022-07-22T19:21:21.413129",
     "status": "completed"
    },
    "tags": []
   },
   "outputs": [
    {
     "name": "stdout",
     "output_type": "stream",
     "text": [
      "Pclass\n"
     ]
    },
    {
     "data": {
      "text/html": [
       "<div>\n",
       "<style scoped>\n",
       "    .dataframe tbody tr th:only-of-type {\n",
       "        vertical-align: middle;\n",
       "    }\n",
       "\n",
       "    .dataframe tbody tr th {\n",
       "        vertical-align: top;\n",
       "    }\n",
       "\n",
       "    .dataframe thead th {\n",
       "        text-align: right;\n",
       "    }\n",
       "</style>\n",
       "<table border=\"1\" class=\"dataframe\">\n",
       "  <thead>\n",
       "    <tr style=\"text-align: right;\">\n",
       "      <th></th>\n",
       "      <th>Survived</th>\n",
       "      <th>Total</th>\n",
       "      <th>Percentage</th>\n",
       "    </tr>\n",
       "  </thead>\n",
       "  <tbody>\n",
       "    <tr>\n",
       "      <th>1</th>\n",
       "      <td>136</td>\n",
       "      <td>216</td>\n",
       "      <td>0.629630</td>\n",
       "    </tr>\n",
       "    <tr>\n",
       "      <th>2</th>\n",
       "      <td>87</td>\n",
       "      <td>184</td>\n",
       "      <td>0.472826</td>\n",
       "    </tr>\n",
       "    <tr>\n",
       "      <th>3</th>\n",
       "      <td>119</td>\n",
       "      <td>491</td>\n",
       "      <td>0.242363</td>\n",
       "    </tr>\n",
       "  </tbody>\n",
       "</table>\n",
       "</div>"
      ],
      "text/plain": [
       "   Survived  Total  Percentage\n",
       "1       136    216    0.629630\n",
       "2        87    184    0.472826\n",
       "3       119    491    0.242363"
      ]
     },
     "metadata": {},
     "output_type": "display_data"
    },
    {
     "name": "stdout",
     "output_type": "stream",
     "text": [
      "Sex\n"
     ]
    },
    {
     "data": {
      "text/html": [
       "<div>\n",
       "<style scoped>\n",
       "    .dataframe tbody tr th:only-of-type {\n",
       "        vertical-align: middle;\n",
       "    }\n",
       "\n",
       "    .dataframe tbody tr th {\n",
       "        vertical-align: top;\n",
       "    }\n",
       "\n",
       "    .dataframe thead th {\n",
       "        text-align: right;\n",
       "    }\n",
       "</style>\n",
       "<table border=\"1\" class=\"dataframe\">\n",
       "  <thead>\n",
       "    <tr style=\"text-align: right;\">\n",
       "      <th></th>\n",
       "      <th>Survived</th>\n",
       "      <th>Total</th>\n",
       "      <th>Percentage</th>\n",
       "    </tr>\n",
       "  </thead>\n",
       "  <tbody>\n",
       "    <tr>\n",
       "      <th>female</th>\n",
       "      <td>233</td>\n",
       "      <td>314</td>\n",
       "      <td>0.742038</td>\n",
       "    </tr>\n",
       "    <tr>\n",
       "      <th>male</th>\n",
       "      <td>109</td>\n",
       "      <td>577</td>\n",
       "      <td>0.188908</td>\n",
       "    </tr>\n",
       "  </tbody>\n",
       "</table>\n",
       "</div>"
      ],
      "text/plain": [
       "        Survived  Total  Percentage\n",
       "female       233    314    0.742038\n",
       "male         109    577    0.188908"
      ]
     },
     "metadata": {},
     "output_type": "display_data"
    },
    {
     "name": "stdout",
     "output_type": "stream",
     "text": [
      "SibSp\n"
     ]
    },
    {
     "data": {
      "text/html": [
       "<div>\n",
       "<style scoped>\n",
       "    .dataframe tbody tr th:only-of-type {\n",
       "        vertical-align: middle;\n",
       "    }\n",
       "\n",
       "    .dataframe tbody tr th {\n",
       "        vertical-align: top;\n",
       "    }\n",
       "\n",
       "    .dataframe thead th {\n",
       "        text-align: right;\n",
       "    }\n",
       "</style>\n",
       "<table border=\"1\" class=\"dataframe\">\n",
       "  <thead>\n",
       "    <tr style=\"text-align: right;\">\n",
       "      <th></th>\n",
       "      <th>Survived</th>\n",
       "      <th>Total</th>\n",
       "      <th>Percentage</th>\n",
       "    </tr>\n",
       "  </thead>\n",
       "  <tbody>\n",
       "    <tr>\n",
       "      <th>0</th>\n",
       "      <td>210</td>\n",
       "      <td>608</td>\n",
       "      <td>0.345395</td>\n",
       "    </tr>\n",
       "    <tr>\n",
       "      <th>1</th>\n",
       "      <td>112</td>\n",
       "      <td>209</td>\n",
       "      <td>0.535885</td>\n",
       "    </tr>\n",
       "    <tr>\n",
       "      <th>2</th>\n",
       "      <td>13</td>\n",
       "      <td>28</td>\n",
       "      <td>0.464286</td>\n",
       "    </tr>\n",
       "    <tr>\n",
       "      <th>3</th>\n",
       "      <td>4</td>\n",
       "      <td>16</td>\n",
       "      <td>0.250000</td>\n",
       "    </tr>\n",
       "    <tr>\n",
       "      <th>4</th>\n",
       "      <td>3</td>\n",
       "      <td>18</td>\n",
       "      <td>0.166667</td>\n",
       "    </tr>\n",
       "    <tr>\n",
       "      <th>5</th>\n",
       "      <td>0</td>\n",
       "      <td>5</td>\n",
       "      <td>0.000000</td>\n",
       "    </tr>\n",
       "    <tr>\n",
       "      <th>8</th>\n",
       "      <td>0</td>\n",
       "      <td>7</td>\n",
       "      <td>0.000000</td>\n",
       "    </tr>\n",
       "  </tbody>\n",
       "</table>\n",
       "</div>"
      ],
      "text/plain": [
       "   Survived  Total  Percentage\n",
       "0       210    608    0.345395\n",
       "1       112    209    0.535885\n",
       "2        13     28    0.464286\n",
       "3         4     16    0.250000\n",
       "4         3     18    0.166667\n",
       "5         0      5    0.000000\n",
       "8         0      7    0.000000"
      ]
     },
     "metadata": {},
     "output_type": "display_data"
    },
    {
     "name": "stdout",
     "output_type": "stream",
     "text": [
      "Parch\n"
     ]
    },
    {
     "data": {
      "text/html": [
       "<div>\n",
       "<style scoped>\n",
       "    .dataframe tbody tr th:only-of-type {\n",
       "        vertical-align: middle;\n",
       "    }\n",
       "\n",
       "    .dataframe tbody tr th {\n",
       "        vertical-align: top;\n",
       "    }\n",
       "\n",
       "    .dataframe thead th {\n",
       "        text-align: right;\n",
       "    }\n",
       "</style>\n",
       "<table border=\"1\" class=\"dataframe\">\n",
       "  <thead>\n",
       "    <tr style=\"text-align: right;\">\n",
       "      <th></th>\n",
       "      <th>Survived</th>\n",
       "      <th>Total</th>\n",
       "      <th>Percentage</th>\n",
       "    </tr>\n",
       "  </thead>\n",
       "  <tbody>\n",
       "    <tr>\n",
       "      <th>0</th>\n",
       "      <td>233</td>\n",
       "      <td>678</td>\n",
       "      <td>0.343658</td>\n",
       "    </tr>\n",
       "    <tr>\n",
       "      <th>1</th>\n",
       "      <td>65</td>\n",
       "      <td>118</td>\n",
       "      <td>0.550847</td>\n",
       "    </tr>\n",
       "    <tr>\n",
       "      <th>2</th>\n",
       "      <td>40</td>\n",
       "      <td>80</td>\n",
       "      <td>0.500000</td>\n",
       "    </tr>\n",
       "    <tr>\n",
       "      <th>3</th>\n",
       "      <td>3</td>\n",
       "      <td>5</td>\n",
       "      <td>0.600000</td>\n",
       "    </tr>\n",
       "    <tr>\n",
       "      <th>4</th>\n",
       "      <td>0</td>\n",
       "      <td>4</td>\n",
       "      <td>0.000000</td>\n",
       "    </tr>\n",
       "    <tr>\n",
       "      <th>5</th>\n",
       "      <td>1</td>\n",
       "      <td>5</td>\n",
       "      <td>0.200000</td>\n",
       "    </tr>\n",
       "    <tr>\n",
       "      <th>6</th>\n",
       "      <td>0</td>\n",
       "      <td>1</td>\n",
       "      <td>0.000000</td>\n",
       "    </tr>\n",
       "  </tbody>\n",
       "</table>\n",
       "</div>"
      ],
      "text/plain": [
       "   Survived  Total  Percentage\n",
       "0       233    678    0.343658\n",
       "1        65    118    0.550847\n",
       "2        40     80    0.500000\n",
       "3         3      5    0.600000\n",
       "4         0      4    0.000000\n",
       "5         1      5    0.200000\n",
       "6         0      1    0.000000"
      ]
     },
     "metadata": {},
     "output_type": "display_data"
    },
    {
     "name": "stdout",
     "output_type": "stream",
     "text": [
      "Embarked\n"
     ]
    },
    {
     "data": {
      "text/html": [
       "<div>\n",
       "<style scoped>\n",
       "    .dataframe tbody tr th:only-of-type {\n",
       "        vertical-align: middle;\n",
       "    }\n",
       "\n",
       "    .dataframe tbody tr th {\n",
       "        vertical-align: top;\n",
       "    }\n",
       "\n",
       "    .dataframe thead th {\n",
       "        text-align: right;\n",
       "    }\n",
       "</style>\n",
       "<table border=\"1\" class=\"dataframe\">\n",
       "  <thead>\n",
       "    <tr style=\"text-align: right;\">\n",
       "      <th></th>\n",
       "      <th>Survived</th>\n",
       "      <th>Total</th>\n",
       "      <th>Percentage</th>\n",
       "    </tr>\n",
       "  </thead>\n",
       "  <tbody>\n",
       "    <tr>\n",
       "      <th>C</th>\n",
       "      <td>93</td>\n",
       "      <td>168</td>\n",
       "      <td>0.553571</td>\n",
       "    </tr>\n",
       "    <tr>\n",
       "      <th>Q</th>\n",
       "      <td>30</td>\n",
       "      <td>77</td>\n",
       "      <td>0.389610</td>\n",
       "    </tr>\n",
       "    <tr>\n",
       "      <th>S</th>\n",
       "      <td>217</td>\n",
       "      <td>644</td>\n",
       "      <td>0.336957</td>\n",
       "    </tr>\n",
       "  </tbody>\n",
       "</table>\n",
       "</div>"
      ],
      "text/plain": [
       "   Survived  Total  Percentage\n",
       "C        93    168    0.553571\n",
       "Q        30     77    0.389610\n",
       "S       217    644    0.336957"
      ]
     },
     "metadata": {},
     "output_type": "display_data"
    },
    {
     "name": "stdout",
     "output_type": "stream",
     "text": [
      "cabin_mapped\n"
     ]
    },
    {
     "data": {
      "text/html": [
       "<div>\n",
       "<style scoped>\n",
       "    .dataframe tbody tr th:only-of-type {\n",
       "        vertical-align: middle;\n",
       "    }\n",
       "\n",
       "    .dataframe tbody tr th {\n",
       "        vertical-align: top;\n",
       "    }\n",
       "\n",
       "    .dataframe thead th {\n",
       "        text-align: right;\n",
       "    }\n",
       "</style>\n",
       "<table border=\"1\" class=\"dataframe\">\n",
       "  <thead>\n",
       "    <tr style=\"text-align: right;\">\n",
       "      <th></th>\n",
       "      <th>Survived</th>\n",
       "      <th>Total</th>\n",
       "      <th>Percentage</th>\n",
       "    </tr>\n",
       "  </thead>\n",
       "  <tbody>\n",
       "    <tr>\n",
       "      <th>A</th>\n",
       "      <td>7</td>\n",
       "      <td>15</td>\n",
       "      <td>0.466667</td>\n",
       "    </tr>\n",
       "    <tr>\n",
       "      <th>B</th>\n",
       "      <td>35</td>\n",
       "      <td>47</td>\n",
       "      <td>0.744681</td>\n",
       "    </tr>\n",
       "    <tr>\n",
       "      <th>C</th>\n",
       "      <td>35</td>\n",
       "      <td>59</td>\n",
       "      <td>0.593220</td>\n",
       "    </tr>\n",
       "    <tr>\n",
       "      <th>D</th>\n",
       "      <td>25</td>\n",
       "      <td>33</td>\n",
       "      <td>0.757576</td>\n",
       "    </tr>\n",
       "    <tr>\n",
       "      <th>E</th>\n",
       "      <td>24</td>\n",
       "      <td>32</td>\n",
       "      <td>0.750000</td>\n",
       "    </tr>\n",
       "    <tr>\n",
       "      <th>F</th>\n",
       "      <td>8</td>\n",
       "      <td>13</td>\n",
       "      <td>0.615385</td>\n",
       "    </tr>\n",
       "    <tr>\n",
       "      <th>G</th>\n",
       "      <td>2</td>\n",
       "      <td>4</td>\n",
       "      <td>0.500000</td>\n",
       "    </tr>\n",
       "    <tr>\n",
       "      <th>T</th>\n",
       "      <td>0</td>\n",
       "      <td>1</td>\n",
       "      <td>0.000000</td>\n",
       "    </tr>\n",
       "    <tr>\n",
       "      <th>n</th>\n",
       "      <td>206</td>\n",
       "      <td>687</td>\n",
       "      <td>0.299854</td>\n",
       "    </tr>\n",
       "  </tbody>\n",
       "</table>\n",
       "</div>"
      ],
      "text/plain": [
       "   Survived  Total  Percentage\n",
       "A         7     15    0.466667\n",
       "B        35     47    0.744681\n",
       "C        35     59    0.593220\n",
       "D        25     33    0.757576\n",
       "E        24     32    0.750000\n",
       "F         8     13    0.615385\n",
       "G         2      4    0.500000\n",
       "T         0      1    0.000000\n",
       "n       206    687    0.299854"
      ]
     },
     "metadata": {},
     "output_type": "display_data"
    }
   ],
   "source": [
    "\n",
    "cat_columns = ['Pclass', 'Sex', 'SibSp', 'Parch', 'Embarked', 'cabin_mapped']\n",
    "\n",
    "for i in cat_columns:\n",
    "    print(i)\n",
    "    grouped = b.groupby(i).aggregate({\"Survived\": \"sum\"})\n",
    "    grouped = pd.concat([grouped, b[i].value_counts()], axis=1)\n",
    "    grouped.rename(columns={i: \"Total\"}, inplace=True)\n",
    "    grouped['Percentage'] = grouped['Survived'] / grouped['Total']\n",
    "    display(grouped)"
   ]
  },
  {
   "cell_type": "code",
   "execution_count": 9,
   "id": "4725056d",
   "metadata": {
    "execution": {
     "iopub.execute_input": "2022-07-22T19:21:21.550321Z",
     "iopub.status.busy": "2022-07-22T19:21:21.549159Z",
     "iopub.status.idle": "2022-07-22T19:21:21.574796Z",
     "shell.execute_reply": "2022-07-22T19:21:21.573190Z"
    },
    "papermill": {
     "duration": 0.046143,
     "end_time": "2022-07-22T19:21:21.577416",
     "exception": false,
     "start_time": "2022-07-22T19:21:21.531273",
     "status": "completed"
    },
    "tags": []
   },
   "outputs": [
    {
     "data": {
      "text/html": [
       "<div>\n",
       "<style scoped>\n",
       "    .dataframe tbody tr th:only-of-type {\n",
       "        vertical-align: middle;\n",
       "    }\n",
       "\n",
       "    .dataframe tbody tr th {\n",
       "        vertical-align: top;\n",
       "    }\n",
       "\n",
       "    .dataframe thead th {\n",
       "        text-align: right;\n",
       "    }\n",
       "</style>\n",
       "<table border=\"1\" class=\"dataframe\">\n",
       "  <thead>\n",
       "    <tr style=\"text-align: right;\">\n",
       "      <th></th>\n",
       "      <th>PassengerId</th>\n",
       "      <th>Survived</th>\n",
       "      <th>Pclass</th>\n",
       "      <th>Name</th>\n",
       "      <th>Sex</th>\n",
       "      <th>Age</th>\n",
       "      <th>SibSp</th>\n",
       "      <th>Parch</th>\n",
       "      <th>Ticket</th>\n",
       "      <th>Fare</th>\n",
       "      <th>Cabin</th>\n",
       "      <th>Embarked</th>\n",
       "      <th>cabin_mapped</th>\n",
       "      <th>ticket_mapped</th>\n",
       "    </tr>\n",
       "  </thead>\n",
       "  <tbody>\n",
       "    <tr>\n",
       "      <th>0</th>\n",
       "      <td>1</td>\n",
       "      <td>0</td>\n",
       "      <td>3</td>\n",
       "      <td>Braund, Mr. Owen Harris</td>\n",
       "      <td>male</td>\n",
       "      <td>22.0</td>\n",
       "      <td>1</td>\n",
       "      <td>0</td>\n",
       "      <td>A/5 21171</td>\n",
       "      <td>7.2500</td>\n",
       "      <td>NaN</td>\n",
       "      <td>S</td>\n",
       "      <td>n</td>\n",
       "      <td>21171</td>\n",
       "    </tr>\n",
       "    <tr>\n",
       "      <th>1</th>\n",
       "      <td>2</td>\n",
       "      <td>1</td>\n",
       "      <td>1</td>\n",
       "      <td>Cumings, Mrs. John Bradley (Florence Briggs Th...</td>\n",
       "      <td>female</td>\n",
       "      <td>38.0</td>\n",
       "      <td>1</td>\n",
       "      <td>0</td>\n",
       "      <td>PC 17599</td>\n",
       "      <td>71.2833</td>\n",
       "      <td>C85</td>\n",
       "      <td>C</td>\n",
       "      <td>C</td>\n",
       "      <td>17599</td>\n",
       "    </tr>\n",
       "    <tr>\n",
       "      <th>2</th>\n",
       "      <td>3</td>\n",
       "      <td>1</td>\n",
       "      <td>3</td>\n",
       "      <td>Heikkinen, Miss. Laina</td>\n",
       "      <td>female</td>\n",
       "      <td>26.0</td>\n",
       "      <td>0</td>\n",
       "      <td>0</td>\n",
       "      <td>STON/O2. 3101282</td>\n",
       "      <td>7.9250</td>\n",
       "      <td>NaN</td>\n",
       "      <td>S</td>\n",
       "      <td>n</td>\n",
       "      <td>3101282</td>\n",
       "    </tr>\n",
       "    <tr>\n",
       "      <th>3</th>\n",
       "      <td>4</td>\n",
       "      <td>1</td>\n",
       "      <td>1</td>\n",
       "      <td>Futrelle, Mrs. Jacques Heath (Lily May Peel)</td>\n",
       "      <td>female</td>\n",
       "      <td>35.0</td>\n",
       "      <td>1</td>\n",
       "      <td>0</td>\n",
       "      <td>113803</td>\n",
       "      <td>53.1000</td>\n",
       "      <td>C123</td>\n",
       "      <td>S</td>\n",
       "      <td>C</td>\n",
       "      <td>113803</td>\n",
       "    </tr>\n",
       "    <tr>\n",
       "      <th>4</th>\n",
       "      <td>5</td>\n",
       "      <td>0</td>\n",
       "      <td>3</td>\n",
       "      <td>Allen, Mr. William Henry</td>\n",
       "      <td>male</td>\n",
       "      <td>35.0</td>\n",
       "      <td>0</td>\n",
       "      <td>0</td>\n",
       "      <td>373450</td>\n",
       "      <td>8.0500</td>\n",
       "      <td>NaN</td>\n",
       "      <td>S</td>\n",
       "      <td>n</td>\n",
       "      <td>373450</td>\n",
       "    </tr>\n",
       "  </tbody>\n",
       "</table>\n",
       "</div>"
      ],
      "text/plain": [
       "   PassengerId  Survived  Pclass  \\\n",
       "0            1         0       3   \n",
       "1            2         1       1   \n",
       "2            3         1       3   \n",
       "3            4         1       1   \n",
       "4            5         0       3   \n",
       "\n",
       "                                                Name     Sex   Age  SibSp  \\\n",
       "0                            Braund, Mr. Owen Harris    male  22.0      1   \n",
       "1  Cumings, Mrs. John Bradley (Florence Briggs Th...  female  38.0      1   \n",
       "2                             Heikkinen, Miss. Laina  female  26.0      0   \n",
       "3       Futrelle, Mrs. Jacques Heath (Lily May Peel)  female  35.0      1   \n",
       "4                           Allen, Mr. William Henry    male  35.0      0   \n",
       "\n",
       "   Parch            Ticket     Fare Cabin Embarked cabin_mapped ticket_mapped  \n",
       "0      0         A/5 21171   7.2500   NaN        S            n         21171  \n",
       "1      0          PC 17599  71.2833   C85        C            C         17599  \n",
       "2      0  STON/O2. 3101282   7.9250   NaN        S            n       3101282  \n",
       "3      0            113803  53.1000  C123        S            C        113803  \n",
       "4      0            373450   8.0500   NaN        S            n        373450  "
      ]
     },
     "execution_count": 9,
     "metadata": {},
     "output_type": "execute_result"
    }
   ],
   "source": [
    "b['ticket_mapped'] = b['Ticket'].map(lambda x: x.split(\" \")[-1])\n",
    "b.head()"
   ]
  },
  {
   "cell_type": "code",
   "execution_count": 10,
   "id": "150870e9",
   "metadata": {
    "execution": {
     "iopub.execute_input": "2022-07-22T19:21:21.613207Z",
     "iopub.status.busy": "2022-07-22T19:21:21.612804Z",
     "iopub.status.idle": "2022-07-22T19:21:21.623183Z",
     "shell.execute_reply": "2022-07-22T19:21:21.621742Z"
    },
    "papermill": {
     "duration": 0.031178,
     "end_time": "2022-07-22T19:21:21.625659",
     "exception": false,
     "start_time": "2022-07-22T19:21:21.594481",
     "status": "completed"
    },
    "tags": []
   },
   "outputs": [],
   "source": [
    "b = b[b['ticket_mapped'] != 'LINE']\n",
    "b['ticket_mapped'] = b['ticket_mapped'].astype(int)"
   ]
  },
  {
   "cell_type": "markdown",
   "id": "290479d2",
   "metadata": {
    "papermill": {
     "duration": 0.016811,
     "end_time": "2022-07-22T19:21:21.659914",
     "exception": false,
     "start_time": "2022-07-22T19:21:21.643103",
     "status": "completed"
    },
    "tags": []
   },
   "source": [
    "# Feature Engineering"
   ]
  },
  {
   "cell_type": "code",
   "execution_count": 11,
   "id": "29b10ee8",
   "metadata": {
    "execution": {
     "iopub.execute_input": "2022-07-22T19:21:21.696163Z",
     "iopub.status.busy": "2022-07-22T19:21:21.695142Z",
     "iopub.status.idle": "2022-07-22T19:21:22.253229Z",
     "shell.execute_reply": "2022-07-22T19:21:22.251915Z"
    },
    "papermill": {
     "duration": 0.578932,
     "end_time": "2022-07-22T19:21:22.255769",
     "exception": false,
     "start_time": "2022-07-22T19:21:21.676837",
     "status": "completed"
    },
    "tags": []
   },
   "outputs": [
    {
     "data": {
      "text/plain": [
       "<AxesSubplot:>"
      ]
     },
     "execution_count": 11,
     "metadata": {},
     "output_type": "execute_result"
    },
    {
     "data": {
      "image/png": "[encoded data removed]",
      "text/plain": [
       "<Figure size 432x288 with 2 Axes>"
      ]
     },
     "metadata": {
      "needs_background": "light"
     },
     "output_type": "display_data"
    }
   ],
   "source": [
    "sns.heatmap(b.corr(), annot=True)"
   ]
  },
  {
   "cell_type": "code",
   "execution_count": 12,
   "id": "52ce953f",
   "metadata": {
    "execution": {
     "iopub.execute_input": "2022-07-22T19:21:22.295533Z",
     "iopub.status.busy": "2022-07-22T19:21:22.295088Z",
     "iopub.status.idle": "2022-07-22T19:21:22.302444Z",
     "shell.execute_reply": "2022-07-22T19:21:22.301311Z"
    },
    "papermill": {
     "duration": 0.030029,
     "end_time": "2022-07-22T19:21:22.304794",
     "exception": false,
     "start_time": "2022-07-22T19:21:22.274765",
     "status": "completed"
    },
    "tags": []
   },
   "outputs": [],
   "source": [
    "b['IsAlone'] = (b['SibSp'] + b['Parch']) == 0"
   ]
  },
  {
   "cell_type": "code",
   "execution_count": 13,
   "id": "222c371d",
   "metadata": {
    "execution": {
     "iopub.execute_input": "2022-07-22T19:21:22.343412Z",
     "iopub.status.busy": "2022-07-22T19:21:22.342440Z",
     "iopub.status.idle": "2022-07-22T19:21:22.362875Z",
     "shell.execute_reply": "2022-07-22T19:21:22.361646Z"
    },
    "papermill": {
     "duration": 0.042446,
     "end_time": "2022-07-22T19:21:22.365287",
     "exception": false,
     "start_time": "2022-07-22T19:21:22.322841",
     "status": "completed"
    },
    "tags": []
   },
   "outputs": [
    {
     "data": {
      "text/html": [
       "<div>\n",
       "<style scoped>\n",
       "    .dataframe tbody tr th:only-of-type {\n",
       "        vertical-align: middle;\n",
       "    }\n",
       "\n",
       "    .dataframe tbody tr th {\n",
       "        vertical-align: top;\n",
       "    }\n",
       "\n",
       "    .dataframe thead th {\n",
       "        text-align: right;\n",
       "    }\n",
       "</style>\n",
       "<table border=\"1\" class=\"dataframe\">\n",
       "  <thead>\n",
       "    <tr style=\"text-align: right;\">\n",
       "      <th></th>\n",
       "      <th>PassengerId</th>\n",
       "      <th>Survived</th>\n",
       "      <th>Pclass</th>\n",
       "      <th>Age</th>\n",
       "      <th>SibSp</th>\n",
       "      <th>Parch</th>\n",
       "      <th>Fare</th>\n",
       "      <th>ticket_mapped</th>\n",
       "      <th>IsAlone</th>\n",
       "    </tr>\n",
       "  </thead>\n",
       "  <tbody>\n",
       "    <tr>\n",
       "      <th>PassengerId</th>\n",
       "      <td>1.000000</td>\n",
       "      <td>-0.004948</td>\n",
       "      <td>-0.033674</td>\n",
       "      <td>0.035636</td>\n",
       "      <td>-0.058525</td>\n",
       "      <td>-0.002551</td>\n",
       "      <td>0.011458</td>\n",
       "      <td>-0.022994</td>\n",
       "      <td>0.059156</td>\n",
       "    </tr>\n",
       "    <tr>\n",
       "      <th>Survived</th>\n",
       "      <td>-0.004948</td>\n",
       "      <td>1.000000</td>\n",
       "      <td>-0.338637</td>\n",
       "      <td>-0.075807</td>\n",
       "      <td>-0.036000</td>\n",
       "      <td>0.081241</td>\n",
       "      <td>0.257248</td>\n",
       "      <td>-0.096400</td>\n",
       "      <td>-0.203057</td>\n",
       "    </tr>\n",
       "    <tr>\n",
       "      <th>Pclass</th>\n",
       "      <td>-0.033674</td>\n",
       "      <td>-0.338637</td>\n",
       "      <td>1.000000</td>\n",
       "      <td>-0.371676</td>\n",
       "      <td>0.085026</td>\n",
       "      <td>0.020252</td>\n",
       "      <td>-0.548447</td>\n",
       "      <td>0.286279</td>\n",
       "      <td>0.132579</td>\n",
       "    </tr>\n",
       "    <tr>\n",
       "      <th>Age</th>\n",
       "      <td>0.035636</td>\n",
       "      <td>-0.075807</td>\n",
       "      <td>-0.371676</td>\n",
       "      <td>1.000000</td>\n",
       "      <td>-0.308528</td>\n",
       "      <td>-0.189100</td>\n",
       "      <td>0.097011</td>\n",
       "      <td>-0.107166</td>\n",
       "      <td>0.198193</td>\n",
       "    </tr>\n",
       "    <tr>\n",
       "      <th>SibSp</th>\n",
       "      <td>-0.058525</td>\n",
       "      <td>-0.036000</td>\n",
       "      <td>0.085026</td>\n",
       "      <td>-0.308528</td>\n",
       "      <td>1.000000</td>\n",
       "      <td>0.414244</td>\n",
       "      <td>0.158494</td>\n",
       "      <td>0.046018</td>\n",
       "      <td>-0.583898</td>\n",
       "    </tr>\n",
       "    <tr>\n",
       "      <th>Parch</th>\n",
       "      <td>-0.002551</td>\n",
       "      <td>0.081241</td>\n",
       "      <td>0.020252</td>\n",
       "      <td>-0.189100</td>\n",
       "      <td>0.414244</td>\n",
       "      <td>1.000000</td>\n",
       "      <td>0.215153</td>\n",
       "      <td>-0.033529</td>\n",
       "      <td>-0.582825</td>\n",
       "    </tr>\n",
       "    <tr>\n",
       "      <th>Fare</th>\n",
       "      <td>0.011458</td>\n",
       "      <td>0.257248</td>\n",
       "      <td>-0.548447</td>\n",
       "      <td>0.097011</td>\n",
       "      <td>0.158494</td>\n",
       "      <td>0.215153</td>\n",
       "      <td>1.000000</td>\n",
       "      <td>-0.156916</td>\n",
       "      <td>-0.270116</td>\n",
       "    </tr>\n",
       "    <tr>\n",
       "      <th>ticket_mapped</th>\n",
       "      <td>-0.022994</td>\n",
       "      <td>-0.096400</td>\n",
       "      <td>0.286279</td>\n",
       "      <td>-0.107166</td>\n",
       "      <td>0.046018</td>\n",
       "      <td>-0.033529</td>\n",
       "      <td>-0.156916</td>\n",
       "      <td>1.000000</td>\n",
       "      <td>0.038153</td>\n",
       "    </tr>\n",
       "    <tr>\n",
       "      <th>IsAlone</th>\n",
       "      <td>0.059156</td>\n",
       "      <td>-0.203057</td>\n",
       "      <td>0.132579</td>\n",
       "      <td>0.198193</td>\n",
       "      <td>-0.583898</td>\n",
       "      <td>-0.582825</td>\n",
       "      <td>-0.270116</td>\n",
       "      <td>0.038153</td>\n",
       "      <td>1.000000</td>\n",
       "    </tr>\n",
       "  </tbody>\n",
       "</table>\n",
       "</div>"
      ],
      "text/plain": [
       "               PassengerId  Survived    Pclass       Age     SibSp     Parch  \\\n",
       "PassengerId       1.000000 -0.004948 -0.033674  0.035636 -0.058525 -0.002551   \n",
       "Survived         -0.004948  1.000000 -0.338637 -0.075807 -0.036000  0.081241   \n",
       "Pclass           -0.033674 -0.338637  1.000000 -0.371676  0.085026  0.020252   \n",
       "Age               0.035636 -0.075807 -0.371676  1.000000 -0.308528 -0.189100   \n",
       "SibSp            -0.058525 -0.036000  0.085026 -0.308528  1.000000  0.414244   \n",
       "Parch            -0.002551  0.081241  0.020252 -0.189100  0.414244  1.000000   \n",
       "Fare              0.011458  0.257248 -0.548447  0.097011  0.158494  0.215153   \n",
       "ticket_mapped    -0.022994 -0.096400  0.286279 -0.107166  0.046018 -0.033529   \n",
       "IsAlone           0.059156 -0.203057  0.132579  0.198193 -0.583898 -0.582825   \n",
       "\n",
       "                   Fare  ticket_mapped   IsAlone  \n",
       "PassengerId    0.011458      -0.022994  0.059156  \n",
       "Survived       0.257248      -0.096400 -0.203057  \n",
       "Pclass        -0.548447       0.286279  0.132579  \n",
       "Age            0.097011      -0.107166  0.198193  \n",
       "SibSp          0.158494       0.046018 -0.583898  \n",
       "Parch          0.215153      -0.033529 -0.582825  \n",
       "Fare           1.000000      -0.156916 -0.270116  \n",
       "ticket_mapped -0.156916       1.000000  0.038153  \n",
       "IsAlone       -0.270116       0.038153  1.000000  "
      ]
     },
     "execution_count": 13,
     "metadata": {},
     "output_type": "execute_result"
    }
   ],
   "source": [
    "b.corr()"
   ]
  },
  {
   "cell_type": "code",
   "execution_count": 14,
   "id": "daccc0ff",
   "metadata": {
    "execution": {
     "iopub.execute_input": "2022-07-22T19:21:22.404762Z",
     "iopub.status.busy": "2022-07-22T19:21:22.404363Z",
     "iopub.status.idle": "2022-07-22T19:21:22.426200Z",
     "shell.execute_reply": "2022-07-22T19:21:22.424988Z"
    },
    "papermill": {
     "duration": 0.044082,
     "end_time": "2022-07-22T19:21:22.428554",
     "exception": false,
     "start_time": "2022-07-22T19:21:22.384472",
     "status": "completed"
    },
    "tags": []
   },
   "outputs": [
    {
     "data": {
      "text/html": [
       "<div>\n",
       "<style scoped>\n",
       "    .dataframe tbody tr th:only-of-type {\n",
       "        vertical-align: middle;\n",
       "    }\n",
       "\n",
       "    .dataframe tbody tr th {\n",
       "        vertical-align: top;\n",
       "    }\n",
       "\n",
       "    .dataframe thead th {\n",
       "        text-align: right;\n",
       "    }\n",
       "</style>\n",
       "<table border=\"1\" class=\"dataframe\">\n",
       "  <thead>\n",
       "    <tr style=\"text-align: right;\">\n",
       "      <th></th>\n",
       "      <th>PassengerId</th>\n",
       "      <th>Survived</th>\n",
       "      <th>Pclass</th>\n",
       "      <th>Age</th>\n",
       "      <th>SibSp</th>\n",
       "      <th>Parch</th>\n",
       "      <th>Fare</th>\n",
       "      <th>ticket_mapped</th>\n",
       "      <th>IsAlone</th>\n",
       "      <th>Age*Pclass</th>\n",
       "    </tr>\n",
       "  </thead>\n",
       "  <tbody>\n",
       "    <tr>\n",
       "      <th>PassengerId</th>\n",
       "      <td>1.000000</td>\n",
       "      <td>-0.004948</td>\n",
       "      <td>-0.033674</td>\n",
       "      <td>0.035636</td>\n",
       "      <td>-0.058525</td>\n",
       "      <td>-0.002551</td>\n",
       "      <td>0.011458</td>\n",
       "      <td>-0.022994</td>\n",
       "      <td>0.059156</td>\n",
       "      <td>0.010808</td>\n",
       "    </tr>\n",
       "    <tr>\n",
       "      <th>Survived</th>\n",
       "      <td>-0.004948</td>\n",
       "      <td>1.000000</td>\n",
       "      <td>-0.338637</td>\n",
       "      <td>-0.075807</td>\n",
       "      <td>-0.036000</td>\n",
       "      <td>0.081241</td>\n",
       "      <td>0.257248</td>\n",
       "      <td>-0.096400</td>\n",
       "      <td>-0.203057</td>\n",
       "      <td>-0.338035</td>\n",
       "    </tr>\n",
       "    <tr>\n",
       "      <th>Pclass</th>\n",
       "      <td>-0.033674</td>\n",
       "      <td>-0.338637</td>\n",
       "      <td>1.000000</td>\n",
       "      <td>-0.371676</td>\n",
       "      <td>0.085026</td>\n",
       "      <td>0.020252</td>\n",
       "      <td>-0.548447</td>\n",
       "      <td>0.286279</td>\n",
       "      <td>0.132579</td>\n",
       "      <td>0.445911</td>\n",
       "    </tr>\n",
       "    <tr>\n",
       "      <th>Age</th>\n",
       "      <td>0.035636</td>\n",
       "      <td>-0.075807</td>\n",
       "      <td>-0.371676</td>\n",
       "      <td>1.000000</td>\n",
       "      <td>-0.308528</td>\n",
       "      <td>-0.189100</td>\n",
       "      <td>0.097011</td>\n",
       "      <td>-0.107166</td>\n",
       "      <td>0.198193</td>\n",
       "      <td>0.600854</td>\n",
       "    </tr>\n",
       "    <tr>\n",
       "      <th>SibSp</th>\n",
       "      <td>-0.058525</td>\n",
       "      <td>-0.036000</td>\n",
       "      <td>0.085026</td>\n",
       "      <td>-0.308528</td>\n",
       "      <td>1.000000</td>\n",
       "      <td>0.414244</td>\n",
       "      <td>0.158494</td>\n",
       "      <td>0.046018</td>\n",
       "      <td>-0.583898</td>\n",
       "      <td>-0.300244</td>\n",
       "    </tr>\n",
       "    <tr>\n",
       "      <th>Parch</th>\n",
       "      <td>-0.002551</td>\n",
       "      <td>0.081241</td>\n",
       "      <td>0.020252</td>\n",
       "      <td>-0.189100</td>\n",
       "      <td>0.414244</td>\n",
       "      <td>1.000000</td>\n",
       "      <td>0.215153</td>\n",
       "      <td>-0.033529</td>\n",
       "      <td>-0.582825</td>\n",
       "      <td>-0.144577</td>\n",
       "    </tr>\n",
       "    <tr>\n",
       "      <th>Fare</th>\n",
       "      <td>0.011458</td>\n",
       "      <td>0.257248</td>\n",
       "      <td>-0.548447</td>\n",
       "      <td>0.097011</td>\n",
       "      <td>0.158494</td>\n",
       "      <td>0.215153</td>\n",
       "      <td>1.000000</td>\n",
       "      <td>-0.156916</td>\n",
       "      <td>-0.270116</td>\n",
       "      <td>-0.328645</td>\n",
       "    </tr>\n",
       "    <tr>\n",
       "      <th>ticket_mapped</th>\n",
       "      <td>-0.022994</td>\n",
       "      <td>-0.096400</td>\n",
       "      <td>0.286279</td>\n",
       "      <td>-0.107166</td>\n",
       "      <td>0.046018</td>\n",
       "      <td>-0.033529</td>\n",
       "      <td>-0.156916</td>\n",
       "      <td>1.000000</td>\n",
       "      <td>0.038153</td>\n",
       "      <td>0.149490</td>\n",
       "    </tr>\n",
       "    <tr>\n",
       "      <th>IsAlone</th>\n",
       "      <td>0.059156</td>\n",
       "      <td>-0.203057</td>\n",
       "      <td>0.132579</td>\n",
       "      <td>0.198193</td>\n",
       "      <td>-0.583898</td>\n",
       "      <td>-0.582825</td>\n",
       "      <td>-0.270116</td>\n",
       "      <td>0.038153</td>\n",
       "      <td>1.000000</td>\n",
       "      <td>0.313088</td>\n",
       "    </tr>\n",
       "    <tr>\n",
       "      <th>Age*Pclass</th>\n",
       "      <td>0.010808</td>\n",
       "      <td>-0.338035</td>\n",
       "      <td>0.445911</td>\n",
       "      <td>0.600854</td>\n",
       "      <td>-0.300244</td>\n",
       "      <td>-0.144577</td>\n",
       "      <td>-0.328645</td>\n",
       "      <td>0.149490</td>\n",
       "      <td>0.313088</td>\n",
       "      <td>1.000000</td>\n",
       "    </tr>\n",
       "  </tbody>\n",
       "</table>\n",
       "</div>"
      ],
      "text/plain": [
       "               PassengerId  Survived    Pclass       Age     SibSp     Parch  \\\n",
       "PassengerId       1.000000 -0.004948 -0.033674  0.035636 -0.058525 -0.002551   \n",
       "Survived         -0.004948  1.000000 -0.338637 -0.075807 -0.036000  0.081241   \n",
       "Pclass           -0.033674 -0.338637  1.000000 -0.371676  0.085026  0.020252   \n",
       "Age               0.035636 -0.075807 -0.371676  1.000000 -0.308528 -0.189100   \n",
       "SibSp            -0.058525 -0.036000  0.085026 -0.308528  1.000000  0.414244   \n",
       "Parch            -0.002551  0.081241  0.020252 -0.189100  0.414244  1.000000   \n",
       "Fare              0.011458  0.257248 -0.548447  0.097011  0.158494  0.215153   \n",
       "ticket_mapped    -0.022994 -0.096400  0.286279 -0.107166  0.046018 -0.033529   \n",
       "IsAlone           0.059156 -0.203057  0.132579  0.198193 -0.583898 -0.582825   \n",
       "Age*Pclass        0.010808 -0.338035  0.445911  0.600854 -0.300244 -0.144577   \n",
       "\n",
       "                   Fare  ticket_mapped   IsAlone  Age*Pclass  \n",
       "PassengerId    0.011458      -0.022994  0.059156    0.010808  \n",
       "Survived       0.257248      -0.096400 -0.203057   -0.338035  \n",
       "Pclass        -0.548447       0.286279  0.132579    0.445911  \n",
       "Age            0.097011      -0.107166  0.198193    0.600854  \n",
       "SibSp          0.158494       0.046018 -0.583898   -0.300244  \n",
       "Parch          0.215153      -0.033529 -0.582825   -0.144577  \n",
       "Fare           1.000000      -0.156916 -0.270116   -0.328645  \n",
       "ticket_mapped -0.156916       1.000000  0.038153    0.149490  \n",
       "IsAlone       -0.270116       0.038153  1.000000    0.313088  \n",
       "Age*Pclass    -0.328645       0.149490  0.313088    1.000000  "
      ]
     },
     "execution_count": 14,
     "metadata": {},
     "output_type": "execute_result"
    }
   ],
   "source": [
    "b['Age*Pclass'] = b['Age'] * b['Pclass']\n",
    "b.corr()"
   ]
  },
  {
   "cell_type": "markdown",
   "id": "0b8c93a0",
   "metadata": {
    "papermill": {
     "duration": 0.018681,
     "end_time": "2022-07-22T19:21:22.466993",
     "exception": false,
     "start_time": "2022-07-22T19:21:22.448312",
     "status": "completed"
    },
    "tags": []
   },
   "source": [
    "# Building the Model"
   ]
  },
  {
   "cell_type": "markdown",
   "id": "1133ac22",
   "metadata": {
    "papermill": {
     "duration": 0.018432,
     "end_time": "2022-07-22T19:21:22.504279",
     "exception": false,
     "start_time": "2022-07-22T19:21:22.485847",
     "status": "completed"
    },
    "tags": []
   },
   "source": [
    "## Setup"
   ]
  },
  {
   "cell_type": "code",
   "execution_count": 15,
   "id": "d5a48fcf",
   "metadata": {
    "execution": {
     "iopub.execute_input": "2022-07-22T19:21:22.544301Z",
     "iopub.status.busy": "2022-07-22T19:21:22.543898Z",
     "iopub.status.idle": "2022-07-22T19:21:22.558446Z",
     "shell.execute_reply": "2022-07-22T19:21:22.557220Z"
    },
    "papermill": {
     "duration": 0.037964,
     "end_time": "2022-07-22T19:21:22.561072",
     "exception": false,
     "start_time": "2022-07-22T19:21:22.523108",
     "status": "completed"
    },
    "tags": []
   },
   "outputs": [],
   "source": [
    "b = pd.read_csv(train_path)\n",
    "b_test = pd.read_csv(test_path)"
   ]
  },
  {
   "cell_type": "code",
   "execution_count": 16,
   "id": "dc9f3625",
   "metadata": {
    "execution": {
     "iopub.execute_input": "2022-07-22T19:21:22.600512Z",
     "iopub.status.busy": "2022-07-22T19:21:22.600087Z",
     "iopub.status.idle": "2022-07-22T19:21:22.607122Z",
     "shell.execute_reply": "2022-07-22T19:21:22.605872Z"
    },
    "papermill": {
     "duration": 0.029691,
     "end_time": "2022-07-22T19:21:22.609622",
     "exception": false,
     "start_time": "2022-07-22T19:21:22.579931",
     "status": "completed"
    },
    "tags": []
   },
   "outputs": [],
   "source": [
    "b['train_test'] = 1\n",
    "b_test['train_test'] = 0"
   ]
  },
  {
   "cell_type": "code",
   "execution_count": 17,
   "id": "9ba6c9f0",
   "metadata": {
    "execution": {
     "iopub.execute_input": "2022-07-22T19:21:22.649231Z",
     "iopub.status.busy": "2022-07-22T19:21:22.648791Z",
     "iopub.status.idle": "2022-07-22T19:21:22.658818Z",
     "shell.execute_reply": "2022-07-22T19:21:22.657652Z"
    },
    "papermill": {
     "duration": 0.033167,
     "end_time": "2022-07-22T19:21:22.661454",
     "exception": false,
     "start_time": "2022-07-22T19:21:22.628287",
     "status": "completed"
    },
    "tags": []
   },
   "outputs": [],
   "source": [
    "all_data = pd.concat([b, b_test])"
   ]
  },
  {
   "cell_type": "code",
   "execution_count": 18,
   "id": "74a62e5b",
   "metadata": {
    "execution": {
     "iopub.execute_input": "2022-07-22T19:21:22.700850Z",
     "iopub.status.busy": "2022-07-22T19:21:22.700438Z",
     "iopub.status.idle": "2022-07-22T19:21:22.710887Z",
     "shell.execute_reply": "2022-07-22T19:21:22.709468Z"
    },
    "papermill": {
     "duration": 0.032661,
     "end_time": "2022-07-22T19:21:22.713395",
     "exception": false,
     "start_time": "2022-07-22T19:21:22.680734",
     "status": "completed"
    },
    "tags": []
   },
   "outputs": [
    {
     "data": {
      "text/plain": [
       "1    891\n",
       "0    418\n",
       "Name: train_test, dtype: int64"
      ]
     },
     "execution_count": 18,
     "metadata": {},
     "output_type": "execute_result"
    }
   ],
   "source": [
    "all_data['train_test'].value_counts()"
   ]
  },
  {
   "cell_type": "code",
   "execution_count": 19,
   "id": "7bdda98c",
   "metadata": {
    "execution": {
     "iopub.execute_input": "2022-07-22T19:21:22.753331Z",
     "iopub.status.busy": "2022-07-22T19:21:22.752915Z",
     "iopub.status.idle": "2022-07-22T19:21:22.778928Z",
     "shell.execute_reply": "2022-07-22T19:21:22.777593Z"
    },
    "papermill": {
     "duration": 0.048851,
     "end_time": "2022-07-22T19:21:22.781348",
     "exception": false,
     "start_time": "2022-07-22T19:21:22.732497",
     "status": "completed"
    },
    "tags": []
   },
   "outputs": [
    {
     "data": {
      "text/html": [
       "<div>\n",
       "<style scoped>\n",
       "    .dataframe tbody tr th:only-of-type {\n",
       "        vertical-align: middle;\n",
       "    }\n",
       "\n",
       "    .dataframe tbody tr th {\n",
       "        vertical-align: top;\n",
       "    }\n",
       "\n",
       "    .dataframe thead th {\n",
       "        text-align: right;\n",
       "    }\n",
       "</style>\n",
       "<table border=\"1\" class=\"dataframe\">\n",
       "  <thead>\n",
       "    <tr style=\"text-align: right;\">\n",
       "      <th></th>\n",
       "      <th>PassengerId</th>\n",
       "      <th>Survived</th>\n",
       "      <th>Pclass</th>\n",
       "      <th>Name</th>\n",
       "      <th>Sex</th>\n",
       "      <th>Age</th>\n",
       "      <th>SibSp</th>\n",
       "      <th>Parch</th>\n",
       "      <th>Ticket</th>\n",
       "      <th>Fare</th>\n",
       "      <th>Cabin</th>\n",
       "      <th>Embarked</th>\n",
       "      <th>train_test</th>\n",
       "    </tr>\n",
       "  </thead>\n",
       "  <tbody>\n",
       "    <tr>\n",
       "      <th>0</th>\n",
       "      <td>1</td>\n",
       "      <td>0.0</td>\n",
       "      <td>3</td>\n",
       "      <td>Braund, Mr. Owen Harris</td>\n",
       "      <td>male</td>\n",
       "      <td>22.0</td>\n",
       "      <td>1</td>\n",
       "      <td>0</td>\n",
       "      <td>A/5 21171</td>\n",
       "      <td>7.2500</td>\n",
       "      <td>NaN</td>\n",
       "      <td>S</td>\n",
       "      <td>1</td>\n",
       "    </tr>\n",
       "    <tr>\n",
       "      <th>1</th>\n",
       "      <td>2</td>\n",
       "      <td>1.0</td>\n",
       "      <td>1</td>\n",
       "      <td>Cumings, Mrs. John Bradley (Florence Briggs Th...</td>\n",
       "      <td>female</td>\n",
       "      <td>38.0</td>\n",
       "      <td>1</td>\n",
       "      <td>0</td>\n",
       "      <td>PC 17599</td>\n",
       "      <td>71.2833</td>\n",
       "      <td>C85</td>\n",
       "      <td>C</td>\n",
       "      <td>1</td>\n",
       "    </tr>\n",
       "    <tr>\n",
       "      <th>2</th>\n",
       "      <td>3</td>\n",
       "      <td>1.0</td>\n",
       "      <td>3</td>\n",
       "      <td>Heikkinen, Miss. Laina</td>\n",
       "      <td>female</td>\n",
       "      <td>26.0</td>\n",
       "      <td>0</td>\n",
       "      <td>0</td>\n",
       "      <td>STON/O2. 3101282</td>\n",
       "      <td>7.9250</td>\n",
       "      <td>NaN</td>\n",
       "      <td>S</td>\n",
       "      <td>1</td>\n",
       "    </tr>\n",
       "    <tr>\n",
       "      <th>3</th>\n",
       "      <td>4</td>\n",
       "      <td>1.0</td>\n",
       "      <td>1</td>\n",
       "      <td>Futrelle, Mrs. Jacques Heath (Lily May Peel)</td>\n",
       "      <td>female</td>\n",
       "      <td>35.0</td>\n",
       "      <td>1</td>\n",
       "      <td>0</td>\n",
       "      <td>113803</td>\n",
       "      <td>53.1000</td>\n",
       "      <td>C123</td>\n",
       "      <td>S</td>\n",
       "      <td>1</td>\n",
       "    </tr>\n",
       "    <tr>\n",
       "      <th>4</th>\n",
       "      <td>5</td>\n",
       "      <td>0.0</td>\n",
       "      <td>3</td>\n",
       "      <td>Allen, Mr. William Henry</td>\n",
       "      <td>male</td>\n",
       "      <td>35.0</td>\n",
       "      <td>0</td>\n",
       "      <td>0</td>\n",
       "      <td>373450</td>\n",
       "      <td>8.0500</td>\n",
       "      <td>NaN</td>\n",
       "      <td>S</td>\n",
       "      <td>1</td>\n",
       "    </tr>\n",
       "    <tr>\n",
       "      <th>...</th>\n",
       "      <td>...</td>\n",
       "      <td>...</td>\n",
       "      <td>...</td>\n",
       "      <td>...</td>\n",
       "      <td>...</td>\n",
       "      <td>...</td>\n",
       "      <td>...</td>\n",
       "      <td>...</td>\n",
       "      <td>...</td>\n",
       "      <td>...</td>\n",
       "      <td>...</td>\n",
       "      <td>...</td>\n",
       "      <td>...</td>\n",
       "    </tr>\n",
       "    <tr>\n",
       "      <th>413</th>\n",
       "      <td>1305</td>\n",
       "      <td>NaN</td>\n",
       "      <td>3</td>\n",
       "      <td>Spector, Mr. Woolf</td>\n",
       "      <td>male</td>\n",
       "      <td>NaN</td>\n",
       "      <td>0</td>\n",
       "      <td>0</td>\n",
       "      <td>A.5. 3236</td>\n",
       "      <td>8.0500</td>\n",
       "      <td>NaN</td>\n",
       "      <td>S</td>\n",
       "      <td>0</td>\n",
       "    </tr>\n",
       "    <tr>\n",
       "      <th>414</th>\n",
       "      <td>1306</td>\n",
       "      <td>NaN</td>\n",
       "      <td>1</td>\n",
       "      <td>Oliva y Ocana, Dona. Fermina</td>\n",
       "      <td>female</td>\n",
       "      <td>39.0</td>\n",
       "      <td>0</td>\n",
       "      <td>0</td>\n",
       "      <td>PC 17758</td>\n",
       "      <td>108.9000</td>\n",
       "      <td>C105</td>\n",
       "      <td>C</td>\n",
       "      <td>0</td>\n",
       "    </tr>\n",
       "    <tr>\n",
       "      <th>415</th>\n",
       "      <td>1307</td>\n",
       "      <td>NaN</td>\n",
       "      <td>3</td>\n",
       "      <td>Saether, Mr. Simon Sivertsen</td>\n",
       "      <td>male</td>\n",
       "      <td>38.5</td>\n",
       "      <td>0</td>\n",
       "      <td>0</td>\n",
       "      <td>SOTON/O.Q. 3101262</td>\n",
       "      <td>7.2500</td>\n",
       "      <td>NaN</td>\n",
       "      <td>S</td>\n",
       "      <td>0</td>\n",
       "    </tr>\n",
       "    <tr>\n",
       "      <th>416</th>\n",
       "      <td>1308</td>\n",
       "      <td>NaN</td>\n",
       "      <td>3</td>\n",
       "      <td>Ware, Mr. Frederick</td>\n",
       "      <td>male</td>\n",
       "      <td>NaN</td>\n",
       "      <td>0</td>\n",
       "      <td>0</td>\n",
       "      <td>359309</td>\n",
       "      <td>8.0500</td>\n",
       "      <td>NaN</td>\n",
       "      <td>S</td>\n",
       "      <td>0</td>\n",
       "    </tr>\n",
       "    <tr>\n",
       "      <th>417</th>\n",
       "      <td>1309</td>\n",
       "      <td>NaN</td>\n",
       "      <td>3</td>\n",
       "      <td>Peter, Master. Michael J</td>\n",
       "      <td>male</td>\n",
       "      <td>NaN</td>\n",
       "      <td>1</td>\n",
       "      <td>1</td>\n",
       "      <td>2668</td>\n",
       "      <td>22.3583</td>\n",
       "      <td>NaN</td>\n",
       "      <td>C</td>\n",
       "      <td>0</td>\n",
       "    </tr>\n",
       "  </tbody>\n",
       "</table>\n",
       "<p>1309 rows × 13 columns</p>\n",
       "</div>"
      ],
      "text/plain": [
       "     PassengerId  Survived  Pclass  \\\n",
       "0              1       0.0       3   \n",
       "1              2       1.0       1   \n",
       "2              3       1.0       3   \n",
       "3              4       1.0       1   \n",
       "4              5       0.0       3   \n",
       "..           ...       ...     ...   \n",
       "413         1305       NaN       3   \n",
       "414         1306       NaN       1   \n",
       "415         1307       NaN       3   \n",
       "416         1308       NaN       3   \n",
       "417         1309       NaN       3   \n",
       "\n",
       "                                                  Name     Sex   Age  SibSp  \\\n",
       "0                              Braund, Mr. Owen Harris    male  22.0      1   \n",
       "1    Cumings, Mrs. John Bradley (Florence Briggs Th...  female  38.0      1   \n",
       "2                               Heikkinen, Miss. Laina  female  26.0      0   \n",
       "3         Futrelle, Mrs. Jacques Heath (Lily May Peel)  female  35.0      1   \n",
       "4                             Allen, Mr. William Henry    male  35.0      0   \n",
       "..                                                 ...     ...   ...    ...   \n",
       "413                                 Spector, Mr. Woolf    male   NaN      0   \n",
       "414                       Oliva y Ocana, Dona. Fermina  female  39.0      0   \n",
       "415                       Saether, Mr. Simon Sivertsen    male  38.5      0   \n",
       "416                                Ware, Mr. Frederick    male   NaN      0   \n",
       "417                           Peter, Master. Michael J    male   NaN      1   \n",
       "\n",
       "     Parch              Ticket      Fare Cabin Embarked  train_test  \n",
       "0        0           A/5 21171    7.2500   NaN        S           1  \n",
       "1        0            PC 17599   71.2833   C85        C           1  \n",
       "2        0    STON/O2. 3101282    7.9250   NaN        S           1  \n",
       "3        0              113803   53.1000  C123        S           1  \n",
       "4        0              373450    8.0500   NaN        S           1  \n",
       "..     ...                 ...       ...   ...      ...         ...  \n",
       "413      0           A.5. 3236    8.0500   NaN        S           0  \n",
       "414      0            PC 17758  108.9000  C105        C           0  \n",
       "415      0  SOTON/O.Q. 3101262    7.2500   NaN        S           0  \n",
       "416      0              359309    8.0500   NaN        S           0  \n",
       "417      1                2668   22.3583   NaN        C           0  \n",
       "\n",
       "[1309 rows x 13 columns]"
      ]
     },
     "execution_count": 19,
     "metadata": {},
     "output_type": "execute_result"
    }
   ],
   "source": [
    "all_data"
   ]
  },
  {
   "cell_type": "code",
   "execution_count": 20,
   "id": "fd5fe4a8",
   "metadata": {
    "execution": {
     "iopub.execute_input": "2022-07-22T19:21:22.823043Z",
     "iopub.status.busy": "2022-07-22T19:21:22.822649Z",
     "iopub.status.idle": "2022-07-22T19:21:22.838109Z",
     "shell.execute_reply": "2022-07-22T19:21:22.836883Z"
    },
    "papermill": {
     "duration": 0.040106,
     "end_time": "2022-07-22T19:21:22.840596",
     "exception": false,
     "start_time": "2022-07-22T19:21:22.800490",
     "status": "completed"
    },
    "tags": []
   },
   "outputs": [],
   "source": [
    "all_data['cabin_mapped'] = all_data['Cabin'].map(lambda x: str(x)[0])\n",
    "all_data['ticket_mapped'] = all_data['Ticket'].map(lambda x: x.split(\" \")[-1])\n",
    "\n",
    "all_data['Title'] = all_data.Name.str.extract(' ([A-Za-z]+)\\.', expand=False)\n",
    "all_data['IsAlone'] = (all_data['SibSp'] + all_data['Parch']) == 0\n",
    "all_data['Age*Pclass'] = all_data['Age'] * all_data['Pclass']"
   ]
  },
  {
   "cell_type": "markdown",
   "id": "2675eadc",
   "metadata": {
    "papermill": {
     "duration": 0.019166,
     "end_time": "2022-07-22T19:21:22.879322",
     "exception": false,
     "start_time": "2022-07-22T19:21:22.860156",
     "status": "completed"
    },
    "tags": []
   },
   "source": [
    "## Null Values"
   ]
  },
  {
   "cell_type": "code",
   "execution_count": 21,
   "id": "f0f3fa85",
   "metadata": {
    "execution": {
     "iopub.execute_input": "2022-07-22T19:21:22.920384Z",
     "iopub.status.busy": "2022-07-22T19:21:22.919955Z",
     "iopub.status.idle": "2022-07-22T19:21:22.934375Z",
     "shell.execute_reply": "2022-07-22T19:21:22.933245Z"
    },
    "papermill": {
     "duration": 0.038083,
     "end_time": "2022-07-22T19:21:22.936819",
     "exception": false,
     "start_time": "2022-07-22T19:21:22.898736",
     "status": "completed"
    },
    "tags": []
   },
   "outputs": [
    {
     "data": {
      "text/plain": [
       "PassengerId         0\n",
       "Survived          418\n",
       "Pclass              0\n",
       "Name                0\n",
       "Sex                 0\n",
       "Age               263\n",
       "SibSp               0\n",
       "Parch               0\n",
       "Ticket              0\n",
       "Fare                1\n",
       "Cabin            1014\n",
       "Embarked            2\n",
       "train_test          0\n",
       "cabin_mapped        0\n",
       "ticket_mapped       0\n",
       "Title               0\n",
       "IsAlone             0\n",
       "Age*Pclass        263\n",
       "dtype: int64"
      ]
     },
     "execution_count": 21,
     "metadata": {},
     "output_type": "execute_result"
    }
   ],
   "source": [
    "all_data.isnull().sum()"
   ]
  },
  {
   "cell_type": "code",
   "execution_count": 22,
   "id": "8d239b30",
   "metadata": {
    "execution": {
     "iopub.execute_input": "2022-07-22T19:21:22.977206Z",
     "iopub.status.busy": "2022-07-22T19:21:22.976648Z",
     "iopub.status.idle": "2022-07-22T19:21:22.990005Z",
     "shell.execute_reply": "2022-07-22T19:21:22.988783Z"
    },
    "papermill": {
     "duration": 0.036429,
     "end_time": "2022-07-22T19:21:22.992645",
     "exception": false,
     "start_time": "2022-07-22T19:21:22.956216",
     "status": "completed"
    },
    "tags": []
   },
   "outputs": [],
   "source": [
    "all_data['Age'].fillna(all_data['Age'].mean(), inplace=True)\n",
    "all_data['Embarked'].fillna(all_data['Embarked'].mode()[0], inplace=True)\n",
    "all_data['Fare'].fillna(all_data['Fare'].mean(), inplace=True)\n",
    "all_data['Age*Pclass'].fillna(all_data['Age*Pclass'].median(), inplace=True)"
   ]
  },
  {
   "cell_type": "code",
   "execution_count": 23,
   "id": "8fbc4d10",
   "metadata": {
    "execution": {
     "iopub.execute_input": "2022-07-22T19:21:23.033458Z",
     "iopub.status.busy": "2022-07-22T19:21:23.032361Z",
     "iopub.status.idle": "2022-07-22T19:21:23.044176Z",
     "shell.execute_reply": "2022-07-22T19:21:23.043319Z"
    },
    "papermill": {
     "duration": 0.034392,
     "end_time": "2022-07-22T19:21:23.046235",
     "exception": false,
     "start_time": "2022-07-22T19:21:23.011843",
     "status": "completed"
    },
    "scrolled": true,
    "tags": []
   },
   "outputs": [
    {
     "data": {
      "text/plain": [
       "PassengerId         0\n",
       "Survived          418\n",
       "Pclass              0\n",
       "Name                0\n",
       "Sex                 0\n",
       "Age                 0\n",
       "SibSp               0\n",
       "Parch               0\n",
       "Ticket              0\n",
       "Fare                0\n",
       "Cabin            1014\n",
       "Embarked            0\n",
       "train_test          0\n",
       "cabin_mapped        0\n",
       "ticket_mapped       0\n",
       "Title               0\n",
       "IsAlone             0\n",
       "Age*Pclass          0\n",
       "dtype: int64"
      ]
     },
     "execution_count": 23,
     "metadata": {},
     "output_type": "execute_result"
    }
   ],
   "source": [
    "all_data.isnull().sum()"
   ]
  },
  {
   "cell_type": "markdown",
   "id": "350419d2",
   "metadata": {
    "papermill": {
     "duration": 0.019645,
     "end_time": "2022-07-22T19:21:23.085275",
     "exception": false,
     "start_time": "2022-07-22T19:21:23.065630",
     "status": "completed"
    },
    "tags": []
   },
   "source": [
    "# Normalizing"
   ]
  },
  {
   "cell_type": "code",
   "execution_count": 24,
   "id": "f633259a",
   "metadata": {
    "execution": {
     "iopub.execute_input": "2022-07-22T19:21:23.127210Z",
     "iopub.status.busy": "2022-07-22T19:21:23.126784Z",
     "iopub.status.idle": "2022-07-22T19:21:23.133254Z",
     "shell.execute_reply": "2022-07-22T19:21:23.132086Z"
    },
    "papermill": {
     "duration": 0.030339,
     "end_time": "2022-07-22T19:21:23.135750",
     "exception": false,
     "start_time": "2022-07-22T19:21:23.105411",
     "status": "completed"
    },
    "tags": []
   },
   "outputs": [],
   "source": [
    "all_data['norm_fare'] = np.log1p(all_data['Fare'])"
   ]
  },
  {
   "cell_type": "markdown",
   "id": "774ff0aa",
   "metadata": {
    "papermill": {
     "duration": 0.018818,
     "end_time": "2022-07-22T19:21:23.173625",
     "exception": false,
     "start_time": "2022-07-22T19:21:23.154807",
     "status": "completed"
    },
    "tags": []
   },
   "source": [
    "# Transforming"
   ]
  },
  {
   "cell_type": "code",
   "execution_count": 25,
   "id": "4874b7ad",
   "metadata": {
    "execution": {
     "iopub.execute_input": "2022-07-22T19:21:23.213721Z",
     "iopub.status.busy": "2022-07-22T19:21:23.213307Z",
     "iopub.status.idle": "2022-07-22T19:21:23.242230Z",
     "shell.execute_reply": "2022-07-22T19:21:23.241160Z"
    },
    "papermill": {
     "duration": 0.051737,
     "end_time": "2022-07-22T19:21:23.244642",
     "exception": false,
     "start_time": "2022-07-22T19:21:23.192905",
     "status": "completed"
    },
    "scrolled": true,
    "tags": []
   },
   "outputs": [],
   "source": [
    "# transform `Pclass` into a categorical\n",
    "all_data['Pclass'] = all_data['Pclass'].astype(str)\n",
    "all_dummies = pd.get_dummies(all_data[['Pclass', 'Sex', 'Age', 'norm_fare', 'train_test', 'Title', 'ticket_mapped', 'IsAlone', 'Age*Pclass', 'SibSp', 'Parch']])"
   ]
  },
  {
   "cell_type": "markdown",
   "id": "344d11c7",
   "metadata": {
    "papermill": {
     "duration": 0.018609,
     "end_time": "2022-07-22T19:21:23.282386",
     "exception": false,
     "start_time": "2022-07-22T19:21:23.263777",
     "status": "completed"
    },
    "tags": []
   },
   "source": [
    "# Scaling"
   ]
  },
  {
   "cell_type": "code",
   "execution_count": 26,
   "id": "3612b80a",
   "metadata": {
    "execution": {
     "iopub.execute_input": "2022-07-22T19:21:23.322548Z",
     "iopub.status.busy": "2022-07-22T19:21:23.321939Z",
     "iopub.status.idle": "2022-07-22T19:21:23.507897Z",
     "shell.execute_reply": "2022-07-22T19:21:23.506780Z"
    },
    "papermill": {
     "duration": 0.209342,
     "end_time": "2022-07-22T19:21:23.510743",
     "exception": false,
     "start_time": "2022-07-22T19:21:23.301401",
     "status": "completed"
    },
    "tags": []
   },
   "outputs": [],
   "source": [
    "from sklearn.preprocessing import StandardScaler\n",
    "\n",
    "scaler = StandardScaler()\n",
    "\n",
    "all_dummies_scaled = all_dummies.copy()\n",
    "all_dummies_scaled[['norm_fare', 'Age*Pclass', 'SibSp', 'Parch']] = scaler.fit_transform(all_dummies_scaled[['norm_fare', 'Age*Pclass', 'SibSp', 'Parch']])\n",
    "\n",
    "X_train_scaled = all_dummies_scaled[all_dummies_scaled.train_test == 1].drop(['train_test'], axis =1)\n",
    "X_test_scaled = all_dummies_scaled[all_dummies_scaled.train_test == 0].drop(['train_test'], axis =1)\n",
    "\n",
    "y_train = all_data[all_data.train_test == 1].Survived"
   ]
  },
  {
   "cell_type": "markdown",
   "id": "505726a2",
   "metadata": {
    "papermill": {
     "duration": 0.019187,
     "end_time": "2022-07-22T19:21:23.549096",
     "exception": false,
     "start_time": "2022-07-22T19:21:23.529909",
     "status": "completed"
    },
    "tags": []
   },
   "source": [
    "# Training the data"
   ]
  },
  {
   "cell_type": "code",
   "execution_count": 27,
   "id": "bf954ef5",
   "metadata": {
    "execution": {
     "iopub.execute_input": "2022-07-22T19:21:23.589809Z",
     "iopub.status.busy": "2022-07-22T19:21:23.589402Z",
     "iopub.status.idle": "2022-07-22T19:21:24.288808Z",
     "shell.execute_reply": "2022-07-22T19:21:24.287605Z"
    },
    "papermill": {
     "duration": 0.722913,
     "end_time": "2022-07-22T19:21:24.291497",
     "exception": false,
     "start_time": "2022-07-22T19:21:23.568584",
     "status": "completed"
    },
    "tags": []
   },
   "outputs": [],
   "source": [
    "from sklearn.model_selection import cross_val_score\n",
    "from sklearn.naive_bayes import GaussianNB\n",
    "from sklearn.linear_model import LogisticRegression\n",
    "from sklearn import tree\n",
    "from sklearn.neighbors import KNeighborsClassifier\n",
    "from sklearn.ensemble import RandomForestClassifier\n",
    "from sklearn.svm import SVC"
   ]
  },
  {
   "cell_type": "code",
   "execution_count": 28,
   "id": "803f8bae",
   "metadata": {
    "execution": {
     "iopub.execute_input": "2022-07-22T19:21:25.116528Z",
     "iopub.status.busy": "2022-07-22T19:21:25.116077Z",
     "iopub.status.idle": "2022-07-22T19:21:27.853718Z",
     "shell.execute_reply": "2022-07-22T19:21:27.852488Z"
    },
    "papermill": {
     "duration": 2.767794,
     "end_time": "2022-07-22T19:21:27.859664",
     "exception": false,
     "start_time": "2022-07-22T19:21:25.091870",
     "status": "completed"
    },
    "tags": []
   },
   "outputs": [
    {
     "name": "stdout",
     "output_type": "stream",
     "text": [
      "[0.82681564 0.8258427  0.80337079 0.80898876 0.87640449]\n",
      "0.8282844768062269\n"
     ]
    }
   ],
   "source": [
    "lr = LogisticRegression(max_iter = 2000)\n",
    "cv = cross_val_score(lr, X_train_scaled, y_train, cv=5)\n",
    "print(cv)\n",
    "print(cv.mean())"
   ]
  },
  {
   "cell_type": "code",
   "execution_count": 29,
   "id": "0c9aaf28",
   "metadata": {
    "execution": {
     "iopub.execute_input": "2022-07-22T19:21:27.938501Z",
     "iopub.status.busy": "2022-07-22T19:21:27.937933Z",
     "iopub.status.idle": "2022-07-22T19:21:28.748512Z",
     "shell.execute_reply": "2022-07-22T19:21:28.747362Z"
    },
    "papermill": {
     "duration": 0.852064,
     "end_time": "2022-07-22T19:21:28.751164",
     "exception": false,
     "start_time": "2022-07-22T19:21:27.899100",
     "status": "completed"
    },
    "tags": []
   },
   "outputs": [
    {
     "name": "stdout",
     "output_type": "stream",
     "text": [
      "[0.82122905 0.8258427  0.86516854 0.78651685 0.80898876]\n",
      "0.8215491808423827\n"
     ]
    }
   ],
   "source": [
    "dt = tree.DecisionTreeClassifier(random_state = 1)\n",
    "cv = cross_val_score(dt, X_train_scaled, y_train,cv=5)\n",
    "print(cv)\n",
    "print(cv.mean())"
   ]
  },
  {
   "cell_type": "code",
   "execution_count": 30,
   "id": "d89f1ad6",
   "metadata": {
    "execution": {
     "iopub.execute_input": "2022-07-22T19:21:28.792113Z",
     "iopub.status.busy": "2022-07-22T19:21:28.791735Z",
     "iopub.status.idle": "2022-07-22T19:21:29.790438Z",
     "shell.execute_reply": "2022-07-22T19:21:29.789057Z"
    },
    "papermill": {
     "duration": 1.02413,
     "end_time": "2022-07-22T19:21:29.795164",
     "exception": false,
     "start_time": "2022-07-22T19:21:28.771034",
     "status": "completed"
    },
    "tags": []
   },
   "outputs": [
    {
     "name": "stdout",
     "output_type": "stream",
     "text": [
      "[0.77653631 0.76966292 0.80898876 0.8258427  0.8258427 ]\n",
      "0.8013746783001695\n"
     ]
    }
   ],
   "source": [
    "knn = KNeighborsClassifier()\n",
    "cv = cross_val_score(knn, X_train_scaled, y_train,cv=5)\n",
    "print(cv)\n",
    "print(cv.mean())"
   ]
  },
  {
   "cell_type": "code",
   "execution_count": 31,
   "id": "ab3471ad",
   "metadata": {
    "execution": {
     "iopub.execute_input": "2022-07-22T19:21:29.878135Z",
     "iopub.status.busy": "2022-07-22T19:21:29.877487Z",
     "iopub.status.idle": "2022-07-22T19:21:32.475305Z",
     "shell.execute_reply": "2022-07-22T19:21:32.473580Z"
    },
    "papermill": {
     "duration": 2.642288,
     "end_time": "2022-07-22T19:21:32.477878",
     "exception": false,
     "start_time": "2022-07-22T19:21:29.835590",
     "status": "completed"
    },
    "tags": []
   },
   "outputs": [
    {
     "name": "stdout",
     "output_type": "stream",
     "text": [
      "[0.81005587 0.8258427  0.86516854 0.81460674 0.85955056]\n",
      "0.835044881049526\n"
     ]
    }
   ],
   "source": [
    "rf = RandomForestClassifier(random_state = 1)\n",
    "cv = cross_val_score(rf, X_train_scaled, y_train,cv=5)\n",
    "print(cv)\n",
    "print(cv.mean())"
   ]
  },
  {
   "cell_type": "code",
   "execution_count": 32,
   "id": "3f1e9980",
   "metadata": {},
   "outputs": [
    {
     "name": "stdout",
     "output_type": "stream",
     "text": [
      "[0.82122905 0.81460674 0.86516854 0.80898876 0.84269663]\n",
      "0.8305379448873266\n"
     ]
    }
   ],
   "source": [
    "from sklearn.ensemble import VotingClassifier\n",
    "voting_clf = VotingClassifier(estimators = [('lr',lr),('knn',knn),('rf',rf),('dt', dt)], voting = 'soft') \n",
    "cv = cross_val_score(voting_clf, X_train_scaled, y_train,cv=5)\n",
    "print(cv)\n",
    "print(cv.mean())"
   ]
  },
  {
   "cell_type": "markdown",
   "id": "ab7a4234",
   "metadata": {
    "papermill": {
     "duration": 0.021679,
     "end_time": "2022-07-22T19:22:45.807115",
     "exception": false,
     "start_time": "2022-07-22T19:22:45.785436",
     "status": "completed"
    },
    "tags": []
   },
   "source": [
    "## Optimization"
   ]
  },
  {
   "cell_type": "code",
   "execution_count": 33,
   "id": "81695833",
   "metadata": {
    "execution": {
     "iopub.execute_input": "2022-07-22T19:22:45.854238Z",
     "iopub.status.busy": "2022-07-22T19:22:45.852535Z",
     "iopub.status.idle": "2022-07-22T19:22:45.865977Z",
     "shell.execute_reply": "2022-07-22T19:22:45.864329Z"
    },
    "papermill": {
     "duration": 0.040648,
     "end_time": "2022-07-22T19:22:45.869165",
     "exception": false,
     "start_time": "2022-07-22T19:22:45.828517",
     "status": "completed"
    },
    "tags": []
   },
   "outputs": [],
   "source": [
    "test = pd.read_csv(test_path)"
   ]
  },
  {
   "cell_type": "code",
   "execution_count": 34,
   "id": "557562f1",
   "metadata": {
    "execution": {
     "iopub.execute_input": "2022-07-22T19:22:45.916127Z",
     "iopub.status.busy": "2022-07-22T19:22:45.915713Z",
     "iopub.status.idle": "2022-07-22T19:22:45.920547Z",
     "shell.execute_reply": "2022-07-22T19:22:45.919737Z"
    },
    "papermill": {
     "duration": 0.030009,
     "end_time": "2022-07-22T19:22:45.922574",
     "exception": false,
     "start_time": "2022-07-22T19:22:45.892565",
     "status": "completed"
    },
    "tags": []
   },
   "outputs": [],
   "source": [
    "from sklearn.model_selection import GridSearchCV "
   ]
  },
  {
   "cell_type": "code",
   "execution_count": 35,
   "id": "c725b55b",
   "metadata": {
    "execution": {
     "iopub.execute_input": "2022-07-22T19:22:45.968041Z",
     "iopub.status.busy": "2022-07-22T19:22:45.967227Z",
     "iopub.status.idle": "2022-07-22T19:22:45.973402Z",
     "shell.execute_reply": "2022-07-22T19:22:45.972135Z"
    },
    "papermill": {
     "duration": 0.032023,
     "end_time": "2022-07-22T19:22:45.976048",
     "exception": false,
     "start_time": "2022-07-22T19:22:45.944025",
     "status": "completed"
    },
    "tags": []
   },
   "outputs": [],
   "source": [
    "def clf_performance(classifier, model_name):\n",
    "    print(model_name)\n",
    "    print('Best Score: ' + str(classifier.best_score_))\n",
    "    print('Best Parameters: ' + str(classifier.best_params_))"
   ]
  },
  {
   "cell_type": "code",
   "execution_count": 36,
   "id": "6674aec4",
   "metadata": {
    "execution": {
     "iopub.execute_input": "2022-07-22T19:22:46.020740Z",
     "iopub.status.busy": "2022-07-22T19:22:46.020318Z",
     "iopub.status.idle": "2022-07-22T19:22:59.656583Z",
     "shell.execute_reply": "2022-07-22T19:22:59.654986Z"
    },
    "papermill": {
     "duration": 13.661357,
     "end_time": "2022-07-22T19:22:59.659246",
     "exception": false,
     "start_time": "2022-07-22T19:22:45.997889",
     "status": "completed"
    },
    "tags": []
   },
   "outputs": [
    {
     "name": "stdout",
     "output_type": "stream",
     "text": [
      "Fitting 5 folds for each of 40 candidates, totalling 200 fits\n",
      "Logistic Regression\n",
      "Best Score: 0.8495825748540582\n",
      "Best Parameters: {'C': 4.281332398719396, 'max_iter': 2000, 'penalty': 'l1', 'solver': 'liblinear'}\n"
     ]
    }
   ],
   "source": [
    "lr = LogisticRegression()\n",
    "param_grid = {'max_iter' : [2000],\n",
    "              'penalty' : ['l1', 'l2'],\n",
    "              'C' : np.logspace(-4, 4, 20),\n",
    "              'solver' : ['liblinear']}\n",
    "\n",
    "clf_lr = GridSearchCV(lr, param_grid = param_grid, cv = 5, verbose = True, n_jobs = -1)\n",
    "best_clf_lr = clf_lr.fit(X_train_scaled,y_train)\n",
    "clf_performance(best_clf_lr,'Logistic Regression')\n",
    "ideal_lr = LogisticRegression(**clf_lr.best_params_)"
   ]
  },
  {
   "cell_type": "code",
   "execution_count": 37,
   "id": "9cb52fb8",
   "metadata": {
    "execution": {
     "iopub.execute_input": "2022-07-22T19:22:59.704544Z",
     "iopub.status.busy": "2022-07-22T19:22:59.704110Z",
     "iopub.status.idle": "2022-07-22T19:23:31.873349Z",
     "shell.execute_reply": "2022-07-22T19:23:31.872027Z"
    },
    "papermill": {
     "duration": 32.214057,
     "end_time": "2022-07-22T19:23:31.894848",
     "exception": false,
     "start_time": "2022-07-22T19:22:59.680791",
     "status": "completed"
    },
    "tags": []
   },
   "outputs": [
    {
     "name": "stdout",
     "output_type": "stream",
     "text": [
      "Fitting 5 folds for each of 48 candidates, totalling 240 fits\n",
      "KNN\n",
      "Best Score: 0.8227292699767748\n",
      "Best Parameters: {'algorithm': 'kd_tree', 'n_neighbors': 7, 'p': 1, 'weights': 'distance'}\n"
     ]
    }
   ],
   "source": [
    "knn = KNeighborsClassifier()\n",
    "param_grid = {'n_neighbors' : [3,5,7,9],\n",
    "              'weights' : ['uniform', 'distance'],\n",
    "              'algorithm' : ['auto', 'ball_tree','kd_tree'],\n",
    "              'p' : [1,2]}\n",
    "clf_knn = GridSearchCV(knn, param_grid = param_grid, cv = 5, verbose = True, n_jobs = -1)\n",
    "best_clf_knn = clf_knn.fit(X_train_scaled,y_train)\n",
    "clf_performance(best_clf_knn,'KNN')"
   ]
  },
  {
   "cell_type": "code",
   "execution_count": 38,
   "id": "a6b7098c",
   "metadata": {
    "execution": {
     "iopub.execute_input": "2022-07-22T19:23:31.941455Z",
     "iopub.status.busy": "2022-07-22T19:23:31.940607Z",
     "iopub.status.idle": "2022-07-22T19:23:31.947276Z",
     "shell.execute_reply": "2022-07-22T19:23:31.946044Z"
    },
    "papermill": {
     "duration": 0.032949,
     "end_time": "2022-07-22T19:23:31.950123",
     "exception": false,
     "start_time": "2022-07-22T19:23:31.917174",
     "status": "completed"
    },
    "tags": []
   },
   "outputs": [],
   "source": [
    "voting_soft = VotingClassifier(estimators = [('lr', ideal_lr), ('knn', clf_knn.best_estimator_)])"
   ]
  },
  {
   "cell_type": "code",
   "execution_count": 39,
   "id": "e4e5d328",
   "metadata": {
    "execution": {
     "iopub.execute_input": "2022-07-22T19:23:31.996587Z",
     "iopub.status.busy": "2022-07-22T19:23:31.995889Z",
     "iopub.status.idle": "2022-07-22T19:25:00.126378Z",
     "shell.execute_reply": "2022-07-22T19:25:00.125170Z"
    },
    "papermill": {
     "duration": 88.178505,
     "end_time": "2022-07-22T19:25:00.151302",
     "exception": false,
     "start_time": "2022-07-22T19:23:31.972797",
     "status": "completed"
    },
    "tags": []
   },
   "outputs": [
    {
     "name": "stdout",
     "output_type": "stream",
     "text": [
      "Fitting 5 folds for each of 4 candidates, totalling 20 fits\n",
      "VC Weights\n",
      "Best Score: 0.8495825748540582\n",
      "Best Parameters: {'weights': [2, 1]}\n"
     ]
    }
   ],
   "source": [
    "params = {'weights' : [[1,1],[1,2],[2,1],[2,2]]}\n",
    "\n",
    "vote_weight = GridSearchCV(voting_soft, param_grid = params, cv = 5, verbose = True, n_jobs = -1)\n",
    "best_clf_weight = vote_weight.fit(X_train_scaled, y_train)\n",
    "clf_performance(best_clf_weight,'VC Weights')"
   ]
  },
  {
   "cell_type": "markdown",
   "id": "015f119e",
   "metadata": {
    "papermill": {
     "duration": 0.021,
     "end_time": "2022-07-22T19:25:00.194894",
     "exception": false,
     "start_time": "2022-07-22T19:25:00.173894",
     "status": "completed"
    },
    "tags": []
   },
   "source": [
    "# Submission"
   ]
  },
  {
   "cell_type": "code",
   "execution_count": 40,
   "id": "052c758f",
   "metadata": {
    "execution": {
     "iopub.execute_input": "2022-07-22T19:25:00.242708Z",
     "iopub.status.busy": "2022-07-22T19:25:00.242020Z",
     "iopub.status.idle": "2022-07-22T19:25:21.962790Z",
     "shell.execute_reply": "2022-07-22T19:25:21.961564Z"
    },
    "papermill": {
     "duration": 21.748582,
     "end_time": "2022-07-22T19:25:21.965375",
     "exception": false,
     "start_time": "2022-07-22T19:25:00.216793",
     "status": "completed"
    },
    "tags": []
   },
   "outputs": [],
   "source": [
    "models = [ideal_lr, best_clf_weight.best_estimator_, clf_knn.best_estimator_]\n",
    "\n",
    "for i in range(len(models)):\n",
    "    models[i].fit(X_train_scaled, y_train)\n",
    "    preds = models[i].predict(X_test_scaled)\n",
    "    final_data = {'PassengerId': test.PassengerId, 'Survived': preds}\n",
    "    final_data['Survived'] = final_data['Survived'].astype(int)\n",
    "    submission = pd.DataFrame(data=final_data)\n",
    "    submission.to_csv(f'submission_{i}.csv', index =False)"
   ]
  }
 ],
 "metadata": {
  "kernelspec": {
   "display_name": "Python 3 (ipykernel)",
   "language": "python",
   "name": "python3"
  },
  "language_info": {
   "codemirror_mode": {
    "name": "ipython",
    "version": 3
   },
   "file_extension": ".py",
   "mimetype": "text/x-python",
   "name": "python",
   "nbconvert_exporter": "python",
   "pygments_lexer": "ipython3",
   "version": "3.9.12"
  },
  "papermill": {
   "default_parameters": {},
   "duration": 255.588462,
   "end_time": "2022-07-22T19:25:24.611850",
   "environment_variables": {},
   "exception": null,
   "input_path": "__notebook__.ipynb",
   "output_path": "__notebook__.ipynb",
   "parameters": {},
   "start_time": "2022-07-22T19:21:09.023388",
   "version": "2.3.4"
  }
 },
 "nbformat": 4,
 "nbformat_minor": 5
}
